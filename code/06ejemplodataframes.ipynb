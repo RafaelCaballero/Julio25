{
  "nbformat": 4,
  "nbformat_minor": 0,
  "metadata": {
    "colab": {
      "provenance": [],
      "authorship_tag": "ABX9TyMvV+BwyNFo8dGJWBXGU6Kc",
      "include_colab_link": true
    },
    "kernelspec": {
      "name": "python3",
      "display_name": "Python 3"
    },
    "language_info": {
      "name": "python"
    }
  },
  "cells": [
    {
      "cell_type": "markdown",
      "metadata": {
        "id": "view-in-github",
        "colab_type": "text"
      },
      "source": [
        "<a href=\"https://colab.research.google.com/github/RafaelCaballero/Julio25/blob/main/code/06ejemplodataframes.ipynb\" target=\"_parent\"><img src=\"https://colab.research.google.com/assets/colab-badge.svg\" alt=\"Open In Colab\"/></a>"
      ]
    },
    {
      "cell_type": "markdown",
      "source": [
        "# Introducción a la ciencia de datos con Python\n",
        "###  Rafa Caballero\n",
        "\n",
        "# Caso práctico: análisis básico de datos, gráficos con pandas\n",
        "\n",
        "Comenzando cargando y preparando los datos con los que vamos a trabajar"
      ],
      "metadata": {
        "id": "skRIIbhPHoUw"
      }
    },
    {
      "cell_type": "code",
      "execution_count": null,
      "metadata": {
        "id": "vAjxMidxu-O7"
      },
      "outputs": [],
      "source": [
        "import yfinance as yf\n",
        "import pandas as pd\n",
        "\n",
        "# Lista de tickers:\n",
        "valores = [\"inditex\",\"iberdrola\", \"santander\", \"BBVA\", \"naturgy\"]\n",
        "tickers = ['ITX.MC', 'IBE.MC',    'SAN.MC', 'BBVA.MC', 'NTGY.MC']\n",
        "\n",
        "# Fechas de inicio y fin\n",
        "start_date = '2025-01-01'\n",
        "end_date = '2025-07-02'\n",
        "\n",
        "# Descargar los datos de Yahoo Finance\n",
        "data = yf.download(tickers, start=start_date, end=end_date, group_by='ticker')\n",
        "\n",
        "# Crear un DataFrame vacío para almacenar los valores OPEN\n",
        "open_data = pd.DataFrame()\n",
        "\n",
        "# Extraer los valores OPEN de cada ticker y añadirlos al DataFrame\n",
        "for i,ticker in enumerate(tickers):\n",
        "    open_data[valores[i]] = data[ticker]['Open']\n",
        "\n",
        "\n",
        "# incremento en porcentaje con respecto al día anterior\n",
        "roi = open_data.pct_change()*100\n",
        "\n",
        "# añadimos el día de la semana\n",
        "roi['dia_semana'] = roi.index.to_series().dt.day_name()\n",
        "\n",
        "# mejor en castellano\n",
        "days_translation = {\n",
        "    'Monday': 'Lunes',\n",
        "    'Tuesday': 'Martes',\n",
        "    'Wednesday': 'Miércoles',\n",
        "    'Thursday': 'Jueves',\n",
        "    'Friday': 'Viernes',\n",
        "    'Saturday': 'Sábado',\n",
        "    'Sunday': 'Domingo'\n",
        "}\n",
        "roi['dia_semana'] = roi['dia_semana'].map(days_translation)\n",
        "\n",
        "# Establecer el índice como una versión formateada de la fecha\n",
        "roi.index = pd.to_datetime(open_data.index).strftime('%Y-%m-%d')\n",
        "\n",
        "\n",
        "roi.style.background_gradient(cmap='RdYlGn')"
      ]
    },
    {
      "cell_type": "markdown",
      "source": [
        "**Ejercicio**\n",
        "\n",
        "La primera fila tiene valores NaN porque no existe fila anterior. Generar un nuevo dataframe \"roi2\" que sea igual que \"roi\" pero quitando la primera fila (idea: usar `roi.iloc[fila]` para seleccionar todo menos la primera fila)"
      ],
      "metadata": {
        "id": "nFzkPbSQxbAB"
      }
    },
    {
      "cell_type": "code",
      "source": [
        "# solución\n",
        "\n",
        "\n",
        "# para probar\n",
        "roi2.style.background_gradient(cmap='RdYlGn')"
      ],
      "metadata": {
        "id": "HyVwd6rhxx-j"
      },
      "execution_count": null,
      "outputs": []
    },
    {
      "cell_type": "markdown",
      "source": [
        "**Ejercicio**\n",
        "\n",
        "Queremos obtener el valor de BBVA el 2025-04-07 (ayuda: utilizar `roi2.loc[fila,columna]`)"
      ],
      "metadata": {
        "id": "Qr9y1J9t6e4k"
      }
    },
    {
      "cell_type": "code",
      "source": [
        "# solución\n"
      ],
      "metadata": {
        "id": "Lm87SgsA7hFT"
      },
      "execution_count": null,
      "outputs": []
    },
    {
      "cell_type": "markdown",
      "source": [
        "**Ejercicio**\n",
        "\n",
        "¿Y si queremos mostrar toda la fila correspondiente a esta fecha?"
      ],
      "metadata": {
        "id": "X_gono6c7rfb"
      }
    },
    {
      "cell_type": "code",
      "source": [
        "# solución\n"
      ],
      "metadata": {
        "id": "dbHmhuGb74jV"
      },
      "execution_count": null,
      "outputs": []
    },
    {
      "cell_type": "markdown",
      "source": [
        "### Información básica\n",
        "\n",
        "**Ejercicio**\n",
        "\n",
        "Llamar primeroa `info()`y luego a `describe()` sobre `roi2`y extraer las consecuencias adecuadas"
      ],
      "metadata": {
        "id": "PkGF99qQzcex"
      }
    },
    {
      "cell_type": "code",
      "source": [],
      "metadata": {
        "id": "5X1FyHEVzgKR"
      },
      "execution_count": null,
      "outputs": []
    },
    {
      "cell_type": "code",
      "source": [],
      "metadata": {
        "id": "aiZQaes1zzg2"
      },
      "execution_count": null,
      "outputs": []
    },
    {
      "cell_type": "markdown",
      "source": [
        "**Ejercicio**\n",
        "Como se puede ver no muestra información sobre la columna \"dia_semana\" por no ser numérica. En estos casos se suele comprobar los valores que tiene y su frecuencia, con `unique`y `value_counts`"
      ],
      "metadata": {
        "id": "Xel_7Jnd8EZe"
      }
    },
    {
      "cell_type": "code",
      "source": [],
      "metadata": {
        "id": "QLsFt4gm8QF3"
      },
      "execution_count": null,
      "outputs": []
    },
    {
      "cell_type": "code",
      "source": [],
      "metadata": {
        "id": "S4vdzpt28Uw-"
      },
      "execution_count": null,
      "outputs": []
    },
    {
      "cell_type": "markdown",
      "source": [
        "### Gráficos sencillos con Pandas\n",
        "\n",
        "Unos histogramas burdos pero rápidos de las columnas numéricas"
      ],
      "metadata": {
        "id": "th9rtrJZ0Aln"
      }
    },
    {
      "cell_type": "code",
      "source": [
        "roi2.hist()"
      ],
      "metadata": {
        "id": "Z32-ghO50FSX"
      },
      "execution_count": null,
      "outputs": []
    },
    {
      "cell_type": "markdown",
      "source": [
        "Un poquito mejor"
      ],
      "metadata": {
        "id": "jFtGrDKGue1l"
      }
    },
    {
      "cell_type": "code",
      "source": [
        "import matplotlib.pyplot as plt\n",
        "\n",
        "roi2.hist()\n",
        "plt.tight_layout() # plt controla como se muestran los gráficos"
      ],
      "metadata": {
        "id": "SyDKq8Acugul"
      },
      "execution_count": null,
      "outputs": []
    },
    {
      "cell_type": "markdown",
      "source": [
        "Los boxplots dan otra perspectiva"
      ],
      "metadata": {
        "id": "dxZh34nc8nc6"
      }
    },
    {
      "cell_type": "code",
      "source": [
        "roi2.boxplot()"
      ],
      "metadata": {
        "id": "f4EXleKw0SdI"
      },
      "execution_count": null,
      "outputs": []
    },
    {
      "cell_type": "markdown",
      "source": [
        "Probamos un gráfico de líneas"
      ],
      "metadata": {
        "id": "wzVWPfAO7zS1"
      }
    },
    {
      "cell_type": "code",
      "source": [
        "roi2.plot()"
      ],
      "metadata": {
        "id": "71s-11CY3R56"
      },
      "execution_count": null,
      "outputs": []
    },
    {
      "cell_type": "markdown",
      "source": [
        "uff...no se ve nada...ajustemos un poco el gráfico"
      ],
      "metadata": {
        "id": "OUwl93ZQ3XGy"
      }
    },
    {
      "cell_type": "code",
      "source": [
        "roi2.index = pd.to_datetime(roi2.index)"
      ],
      "metadata": {
        "id": "SOa-P-VX7Gwl"
      },
      "execution_count": null,
      "outputs": []
    },
    {
      "cell_type": "code",
      "source": [
        "fig, eje = plt.subplots(figsize=(20, 4))\n",
        "# hacemos el gráfico, ahora le indicamos la proporción ancho y alto, además del título\n",
        "roi2.plot(ax=eje, title='Evolución de los valores OPEN')\n",
        "# Configurar etiquetas del eje X para mostrar 1 de cada 5 fechas\n",
        "tick_positions = roi2.index[::5]\n",
        "eje.set_xticks(tick_positions)\n",
        "#ax.set_xticklabels(tick_positions.strftime('%Y-%m-%d'), rotation=45)\n",
        "# lo grabamos en un fichero con alta resolución\n",
        "fig.savefig('evolucion_open.pdf', format='pdf', dpi=300)"
      ],
      "metadata": {
        "id": "OE459G5V0shk"
      },
      "execution_count": null,
      "outputs": []
    },
    {
      "cell_type": "markdown",
      "source": [
        "Con una función:"
      ],
      "metadata": {
        "id": "xn_TwAbG-GN9"
      }
    },
    {
      "cell_type": "code",
      "source": [
        "def gráfica(df,nombreSalida,pasoDias=5):\n",
        "  fig, eje = plt.subplots(figsize=(20, 4))\n",
        "  df.plot(ax=eje, title='Evolución de los valores OPEN')\n",
        "  # Configurar etiquetas del eje X para mostrar 1 de cada 5 fechas\n",
        "  tick_positions = roi2.index[::pasoDias]\n",
        "  eje.set_xticks(tick_positions)\n",
        "  # lo grabamos en un fichero con alta resolución\n",
        "  fig.savefig(nombreSalida, dpi=300)"
      ],
      "metadata": {
        "id": "-1x_vAC6-HsF"
      },
      "execution_count": null,
      "outputs": []
    },
    {
      "cell_type": "code",
      "source": [
        "gráfica(roi2,\"open.pdf\")"
      ],
      "metadata": {
        "id": "e0RUNqid-EcO"
      },
      "execution_count": null,
      "outputs": []
    },
    {
      "cell_type": "markdown",
      "source": [
        "¿No se vería mejor con la media móvil?"
      ],
      "metadata": {
        "id": "jFy6fJBx5prA"
      }
    },
    {
      "cell_type": "code",
      "source": [
        "# Calcular la media móvil de 5 días\n",
        "rolling_average = roi2[valores].rolling(window=5).mean()\n",
        "gráfica(rolling_average,\"open_rolling.pdf\")"
      ],
      "metadata": {
        "id": "GUbemqFL5thF"
      },
      "execution_count": null,
      "outputs": []
    },
    {
      "cell_type": "markdown",
      "source": [
        "Puede ser que nos interese ver un día concreto en forma de barras:"
      ],
      "metadata": {
        "id": "ef5Xxf6v9KDN"
      }
    },
    {
      "cell_type": "code",
      "source": [
        "roi2.loc[[\"2025-06-11\"]].plot.bar()"
      ],
      "metadata": {
        "id": "vZeYLJV_9ONs"
      },
      "execution_count": null,
      "outputs": []
    },
    {
      "cell_type": "code",
      "source": [
        "open_data.plot.area()"
      ],
      "metadata": {
        "id": "MCSKPXDf_8Ds"
      },
      "execution_count": null,
      "outputs": []
    },
    {
      "cell_type": "code",
      "source": [
        "roi2.plot.kde() # diagrama de densidad"
      ],
      "metadata": {
        "id": "EQ5MpA8SGhxU"
      },
      "execution_count": null,
      "outputs": []
    },
    {
      "cell_type": "code",
      "source": [
        "roi2.plot.scatter(x=\"santander\",y=\"BBVA\")"
      ],
      "metadata": {
        "id": "5onPT4Xx9-Eg"
      },
      "execution_count": null,
      "outputs": []
    },
    {
      "cell_type": "code",
      "source": [
        "roi2.plot.scatter(x=\"santander\",y=\"inditex\")"
      ],
      "metadata": {
        "id": "T2OKKP2fBA2T"
      },
      "execution_count": null,
      "outputs": []
    },
    {
      "cell_type": "code",
      "source": [
        "roi2[valores].corr()"
      ],
      "metadata": {
        "id": "e8Qsg2vfBFrc"
      },
      "execution_count": null,
      "outputs": []
    },
    {
      "cell_type": "markdown",
      "source": [
        "Hay muchos más diagramas, ver aquí: https://pandas.pydata.org/docs/user_guide/visualization.html\n"
      ],
      "metadata": {
        "id": "yyl8RmpoGy-U"
      }
    },
    {
      "cell_type": "markdown",
      "source": [
        "#### Filtros\n",
        "\n",
        "**Ejercicio**\n",
        "\n",
        "Mostrar la media de BBVA los Viernes\n",
        "\n",
        "\n"
      ],
      "metadata": {
        "id": "fkqcH62XHTnG"
      }
    },
    {
      "cell_type": "code",
      "source": [],
      "metadata": {
        "id": "S2fi4Ca_HmLy"
      },
      "execution_count": null,
      "outputs": []
    },
    {
      "cell_type": "markdown",
      "source": [
        "**Ejercicio**\n",
        "\n",
        "Convertir el código anterior en una función a la que se pase:\n",
        "- El dataframe\n",
        "- El día de la semana\n",
        "- El valor bursátil.\n",
        "\n",
        "Probarla con los valores anteriores"
      ],
      "metadata": {
        "id": "6-V9PB_GA2xn"
      }
    },
    {
      "cell_type": "code",
      "source": [],
      "metadata": {
        "id": "YO586TUVA_Vd"
      },
      "execution_count": null,
      "outputs": []
    },
    {
      "cell_type": "markdown",
      "source": [
        "**Ejercicio** Probar la función de nuevo para el BBVA pero los Lunes"
      ],
      "metadata": {
        "id": "-5dCXiJmBAKt"
      }
    },
    {
      "cell_type": "code",
      "source": [],
      "metadata": {
        "id": "8jU3a5lfCHoG"
      },
      "execution_count": null,
      "outputs": []
    },
    {
      "cell_type": "code",
      "source": [],
      "metadata": {
        "id": "g5ctq26kCQTu"
      },
      "execution_count": null,
      "outputs": []
    },
    {
      "cell_type": "markdown",
      "source": [
        "**Ejercicio**\n",
        "\n",
        "En qué día tuvo naturgy su mayor decremento porcentual con respecto al día anterior (el valor mínimo en `roi2`). Pista: investigar `idxmin`"
      ],
      "metadata": {
        "id": "ThT7ysdLAeWG"
      }
    },
    {
      "cell_type": "code",
      "source": [],
      "metadata": {
        "id": "1jYufLooAfkt"
      },
      "execution_count": null,
      "outputs": []
    }
  ]
}