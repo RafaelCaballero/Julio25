{
  "cells": [
    {
      "cell_type": "markdown",
      "metadata": {
        "id": "view-in-github",
        "colab_type": "text"
      },
      "source": [
        "<a href=\"https://colab.research.google.com/github/RafaelCaballero/BME/blob/main/mfia/01intro.ipynb\" target=\"_parent\"><img src=\"https://colab.research.google.com/assets/colab-badge.svg\" alt=\"Open In Colab\"/></a>"
      ]
    },
    {
      "cell_type": "markdown",
      "metadata": {
        "id": "4zhiS8Dyx49a"
      },
      "source": [
        "# Introducción a Python\n",
        "### Rafa Caballero\n",
        "\n",
        "# 1 Valores, variables, operadores, funciones predefinidas\n",
        "\n",
        "\n",
        "Puedes usar el siguiente índice para saltar a la sección adecuado\n",
        "\n",
        "\n",
        "**Índice**\n",
        "\n",
        "[Introducción](#Introduction)\n",
        "\n",
        "[Hello World](#Hello-World)\n",
        "\n",
        "[Variables](#Variables)\n",
        "\n",
        "[Tipos en Python](#Tipos-en-Python)\n",
        "\n",
        "[Instrucciones](#Instrucciones)\n",
        "\n",
        "[Operadores](#Operadores)<br>\n",
        "  &emsp;[Operadores aritméticos](#Operadores-aritméticos)<br>\n",
        "  &emsp;[Operadores relacionales](#Operadores-relacionales)<br>\n",
        "  &emsp;[Operadores booleanos](#Operadores-booleanos)<br>\n",
        "\n",
        "[Funciones de usuario](#Funciones-de-usuario)<br>\n",
        "\n",
        "[Importación de bibliotecas](#Importación-de-bibliotecas)<br>\n",
        "\n",
        "[Conversión entre tipos](#Conversión-entre-tipos)<br>\n"
      ]
    },
    {
      "cell_type": "markdown",
      "metadata": {
        "id": "O9phVKb_Wblm"
      },
      "source": [
        "<a name=\"Introduction\"></a>\n",
        "## Introducción"
      ]
    },
    {
      "cell_type": "markdown",
      "metadata": {
        "id": "LfO7uZRHx49e"
      },
      "source": [
        "\n",
        "#### Presentación\n",
        "**Python** es un lenguaje de propósito general. Creado por  Guido Van Rossum alrededor 1989, se ha convertido en uno de los lenguajes favoritos para la llamada *ciencia de datos*.\n",
        "\n",
        "Estos notebooks presentan algunos aspectos básicos del lenguaje. Están orientados a estudiantes que no precisan conocimientos previos de programación y solo muestran los aspectos básicos del lenguaje que necesitaremos en nuestro curso. Esto implica que dejaremos fuera aspectos muy importantes del lenguaje como la programación orientada a objetos, el desarrollo de módulos, etc. Sin embargo aprender todo esto debe resultar sencillo si se completa el curso.\n",
        "\n",
        "#### Versiones\n",
        "Desafartudamente, un malhadado día de 2008, Python se dividió en dos dialectos coincidiendo con la salida de la versión 3 del lenguaje. El problema era que la nueva versión no era compatible *hacia atrás*, es decir con las versiones anteriores y en particular con la 2, por lo que los numeros existens programas escritos en Python 2.X no correrían necesariamente en entornos Python 3.x (ni viceversa, pero esto es más usual). La situación fue a peor cuando Python 2.X continuó evolucionando por su cuenta, conviertiéndose en una rama diferente del lenguaje.\n",
        "\n",
        "En todo caso estos tiempos oscuros están acabando y las versiones 3.x son las más utilizadas. En estos notebooks utilizaremos las versiones más recientes de Python (3), y esta historia se menciona porque aun puedes encontrar muchos libros y recursos que utilizan la sintaxis 2.x.\n",
        "\n",
        "En cuento a los entorno de ejecución hay muchas posibilidades. Este curso emplea los *Jupyter notebooks*, un proyecto basedo en el formato JSON que permite combinar \"celdas\" de texto formateado con otras de código (código en Python en nuestro caso pero también hay Jupyter notebooks por ejemplo para R).\n",
        "\n",
        "Para cargar uno de los notebooks puedes utilizar por ejemplo [Google Colaboratory](https://colab.research.google.com/) (un servicio online para ejecutar Python) que nos evita descargar nada de software. Si en cambio prefieres ejecutar el código offline puedes instalar, por ejemplo, [Anaconda](https://www.anaconda.com/).\n",
        "\n",
        "\n",
        "#### Recursos\n",
        "Estas notas toman ideas y ejemplos de otros libros y recursos online que merece la pena menionar, no solo para darles el merecido crédito, sino porque pueden ser utilizados como material complementario (o sustitutorio):\n",
        "\n",
        "* [https://www.python.org/](https://www.python.org/)   La referencia básica de Python. Incluye tutoriales y una ayuda muy detalladas.\n",
        "\n",
        "\n",
        "* [The Python tutorial](https://docs.python.org/3/tutorial/index.html \"The Python tutorial\"). \"La\" referencia. Debo confesar que no es mi preferido para aprender (demasiado detallado y poco didáctico), pero sin duda se trata de una referencia muy completa.\n",
        "\n",
        "\n",
        "* *Learning with Python How to Think Like a Computer Scientist*. Una buena introducción a Python con la perspectiva de un científico de datos.\n",
        "\n",
        "\n",
        "* *Python for Kids*:  Un libro para niños tan bien escrito que puede ser utilizado por adultos.\n",
        "\n"
      ]
    },
    {
      "cell_type": "markdown",
      "metadata": {
        "id": "uNAZL8jcx49i"
      },
      "source": [
        "<a name=\"Hello-World\"></a>\n",
        "## Hello World"
      ]
    },
    {
      "cell_type": "markdown",
      "metadata": {
        "id": "f18ZgdOwx49i"
      },
      "source": [
        "En los libros y tutoriales de programación se mantiene la costumbre de que el primer programa sea uno que tan solo escriba \"hello world\". No podemos por menos que respetar tan venerable tradicición:"
      ]
    },
    {
      "cell_type": "code",
      "execution_count": null,
      "metadata": {
        "id": "qZ2XxQX5x49j"
      },
      "outputs": [],
      "source": [
        "# Presionar el botón >| Run para ejecutar este código\n",
        "print(\"Hello World\")"
      ]
    },
    {
      "cell_type": "markdown",
      "metadata": {
        "id": "Em08xG9DAQLt"
      },
      "source": [
        "Aquí `print` es una *función predefinida* que recibe un *parámetro*: La cadena de caracteres que debe mostrar. Las cadenas de caracteres o *strings* deben aparecer entre comillas, simples o dobles, a elegir. Eso sí, recuerda ser consistente para abrir y cerrar con el mismo símbolo.\n",
        "\n",
        "Disponer de estas posibilidades es interesante si queremos incluir comillas dentro del mensaje:"
      ]
    },
    {
      "cell_type": "code",
      "execution_count": null,
      "metadata": {
        "id": "i8_x5yVLx49j"
      },
      "outputs": [],
      "source": [
        "print('She said: \"Hi Bertold!\" and smiled at me')"
      ]
    },
    {
      "cell_type": "markdown",
      "metadata": {
        "id": "6cWADwD-AQLu"
      },
      "source": [
        "`print` no solo es capaz de mostrar strings sino también otros **tipos**, como números:"
      ]
    },
    {
      "cell_type": "code",
      "execution_count": null,
      "metadata": {
        "id": "nGvmVkgdAQLv"
      },
      "outputs": [],
      "source": [
        "print(42)"
      ]
    },
    {
      "cell_type": "markdown",
      "metadata": {
        "id": "tBJoTC7EWQe9"
      },
      "source": [
        "O **variables**, de las que hablaremos dentro de un momento\n"
      ]
    },
    {
      "cell_type": "code",
      "execution_count": null,
      "metadata": {
        "id": "FEs4gZSFWQe-"
      },
      "outputs": [],
      "source": [
        "x=50000000000000000000000000000\n",
        "print(x+1)"
      ]
    },
    {
      "cell_type": "markdown",
      "metadata": {
        "id": "zCTkbbb49ryF"
      },
      "source": [
        "print puede mostrar más de un valor"
      ]
    },
    {
      "cell_type": "code",
      "execution_count": null,
      "metadata": {
        "id": "zwejJOCs9xul"
      },
      "outputs": [],
      "source": [
        "print(\"Tengo \",18,\"años\")"
      ]
    },
    {
      "cell_type": "markdown",
      "metadata": {
        "id": "Ft5eBFaR94yd"
      },
      "source": [
        "entre cada dos argumentos print escribe un espacio. El carácter de separación se puede cambiar con el parámetro `sep`"
      ]
    },
    {
      "cell_type": "code",
      "execution_count": null,
      "metadata": {
        "id": "dK60sru8-LU_"
      },
      "outputs": [],
      "source": [
        "print(\"Tengo\",18,\"años\",sep=\"-\")"
      ]
    },
    {
      "cell_type": "markdown",
      "metadata": {
        "id": "disd21Oh-UkW"
      },
      "source": [
        "Además, print siempre escribe un fin de línea tras cada print:"
      ]
    },
    {
      "cell_type": "code",
      "execution_count": null,
      "metadata": {
        "id": "jSovmTTg-aZ1"
      },
      "outputs": [],
      "source": [
        "print(\"Hola\")\n",
        "print(\"Mundo\")"
      ]
    },
    {
      "cell_type": "markdown",
      "metadata": {
        "id": "4w8a4vQG-eLl"
      },
      "source": [
        "De nuevo este comportamiento por defecto se puede cambiar si utilizamos el parámetro `end`"
      ]
    },
    {
      "cell_type": "code",
      "execution_count": null,
      "metadata": {
        "id": "F6dwrrgT-m3-"
      },
      "outputs": [],
      "source": [
        "print(\"Hola\",end=\" \")\n",
        "print(\"Mundo\")"
      ]
    },
    {
      "cell_type": "markdown",
      "metadata": {
        "id": "8z6BvgYax49l"
      },
      "source": [
        "<a name=\"Variables\"></a>\n",
        "## Variables\n"
      ]
    },
    {
      "cell_type": "markdown",
      "metadata": {
        "id": "1Y7VaO2Lx49l"
      },
      "source": [
        "En los lenguajes de programación los valores a menudo se almacenan en \"cajas\" a las que llamamos *variables*. Cada \"caja\" tiene:\n",
        "\n",
        "- Un nombre (podemos elegir el nombre que queramos siempre que respetemos la reglas para definir identificadores y no sea una palabra reservada, ver [aquí](https://www.programiz.com/python-programming/keywords-identifier) la definición de ambos términos)\n",
        "\n",
        "- Un valor.\n",
        "\n",
        "- Un tipo: entero, string, etc.\n",
        "\n",
        "A nivel físico una variable se puede pensar como un fragmento de memoria que contiene un valor y tienen un nombre asociado.\n",
        "\n",
        "Ejemplos:"
      ]
    },
    {
      "cell_type": "code",
      "execution_count": null,
      "metadata": {
        "id": "6YPsFAl2x49l"
      },
      "outputs": [],
      "source": [
        "x = 2\n",
        "y = 1.2\n",
        "s = 'if you torture the data long enough, it will confess'\n",
        "\n"
      ]
    },
    {
      "cell_type": "markdown",
      "metadata": {
        "id": "takL1DFcx49m"
      },
      "source": [
        "Estas instrucciones Python crean 3 variables\n",
        "* Una variable con nombre  x, valor 2\n",
        "* Una variable con nombre y, valor 1.2\n",
        "* Una variable con nombre xy, con valor *'if you torture the data long enough, it will confess to anything'*.\n",
        "\n",
        "Aparentemente no hacen nada, pero algo ha cambiado: la memoria contiene 3 nuevas variables que podemos utilizar\n"
      ]
    },
    {
      "cell_type": "code",
      "execution_count": null,
      "metadata": {
        "id": "mAaEuMsxx49m"
      },
      "outputs": [],
      "source": [
        "print(x+y,s,x*y)"
      ]
    },
    {
      "cell_type": "markdown",
      "metadata": {
        "id": "seBg-gyBAQLx"
      },
      "source": [
        "**NOTAS**\n",
        "\n",
        "\n",
        "*   Las variables seguirán teniendo sus valores mientras sigamos con el notebook\n",
        "*   No estamos en Excel: cada cambio solo afecta a una variable\n",
        "*   Si en algún momento queremos reiniciar el notebook completo podemos hacerlo en *Entorno de Ejecución* + *Reiniciar entorno de ejecución*\n",
        "\n",
        "\n",
        "\n",
        "Como muestra el ejemplo, es posible mezclar variables y constantes en el mismo print"
      ]
    },
    {
      "cell_type": "code",
      "execution_count": null,
      "metadata": {
        "id": "w7KEYZyDAQLx"
      },
      "outputs": [],
      "source": [
        "x=18\n",
        "print(\"Mi edad es \",x,\"¿cúal es la tuya?\")"
      ]
    },
    {
      "cell_type": "markdown",
      "metadata": {
        "id": "7VqyhSXtAQLy"
      },
      "source": [
        "En ocasiones veremos esta otra notación:"
      ]
    },
    {
      "cell_type": "code",
      "execution_count": null,
      "metadata": {
        "id": "Uupz_Or8AQLy"
      },
      "outputs": [],
      "source": [
        "print(f\"Mi edad es {x} ¿cúal es la tuya?\")"
      ]
    },
    {
      "cell_type": "markdown",
      "metadata": {
        "id": "SczZgwLcx49n"
      },
      "source": [
        "Aquí la f al comienzo indica que es una cadena con formato, lo que significa que cada vez que se encuentre un carácter *{* tendrá que interpretar lo que venga a continuación como si se hubieran cerrado las comillas y puesto una coma\n",
        "\n",
        "\n",
        "**Ejercicio** Escribir un código que declare una variable `nombre` que contenga nuestro nombre, y luego muestre con print \"Hola, soy X\", donde X es el contenido de esta variable"
      ]
    },
    {
      "cell_type": "code",
      "execution_count": null,
      "metadata": {
        "id": "sf8Lnn06_m3F"
      },
      "outputs": [],
      "source": [
        "# Solución\n"
      ]
    },
    {
      "cell_type": "markdown",
      "metadata": {
        "id": "4LywGOuox49n"
      },
      "source": [
        "<a name=\"Tipos-en-Python\"></a>\n",
        "## Tipos en Python"
      ]
    },
    {
      "cell_type": "markdown",
      "metadata": {
        "id": "gx6Haxe1x49o"
      },
      "source": [
        "En Python, **todo valor tiene un tipo**, es decir pertenece a un conjunto predefinido de valores.\n",
        "Decimos que se trata de un lenguaje con tipos, o un lenguaje tipado.\n",
        "\n",
        "Sin embargo, a diferencia de otros lenguajes como C, C++, C# o Java, en Python no se declaran los tipos explícitamente, los deduce el sistema.\n",
        "\n",
        "Esto es una comodidad, pero no debe hacernos olvidar que los tipos existen. En concreto, en Python, tenemos:\n",
        "\n",
        "* *Tipos numéricos*: int, float, complex\n",
        "* *Tipo cierto/falso*: bool\n",
        "* *Tipo carácter*: chr\n",
        "* *Tipos secuencia*: list, tuple, range\n",
        "* *Tipo secuencia de caracteres*: str\n",
        "* *Conjuntos*: set\n",
        "* *Maps*: dict\n",
        "* *Programación funcional*: funciones lambda\n",
        "* *Programación orientada a objetos*: Clases, objetos\n",
        "* *Tipos secuencia de binarios*: bytes, bytearray, memoryview\n",
        "\n"
      ]
    },
    {
      "cell_type": "code",
      "execution_count": null,
      "metadata": {
        "id": "zIaSrPoVx49o"
      },
      "outputs": [],
      "source": [
        "x = 2\n",
        "y = 1.2\n",
        "s = 'if you torture the data long enough, it will confess'\n",
        "\n",
        "\n",
        "print(4,type(4))\n",
        "print(4.0,type(4.0))\n",
        "print(True,type(True))\n",
        "print(x,type(x))\n",
        "print(s,type(s))\n"
      ]
    },
    {
      "cell_type": "markdown",
      "metadata": {
        "id": "nuTws_IRx49o"
      },
      "source": [
        "**Ejercicio 2** Intentar adivinar el tipo de la siguiente expresión antes de ejecutar el código"
      ]
    },
    {
      "cell_type": "code",
      "execution_count": null,
      "metadata": {
        "id": "s9aDeV7cx49o"
      },
      "outputs": [],
      "source": [
        "print(type(3+4.1))"
      ]
    },
    {
      "cell_type": "markdown",
      "metadata": {
        "id": "85ys2i14x49p"
      },
      "source": [
        "#### Tuplas (introducción)\n",
        "\n",
        "se le puede dar valor a varias variables simultáneamente:"
      ]
    },
    {
      "cell_type": "code",
      "execution_count": null,
      "metadata": {
        "id": "YjaT6WIGx49p"
      },
      "outputs": [],
      "source": [
        "x = y = 1"
      ]
    },
    {
      "cell_type": "code",
      "execution_count": null,
      "metadata": {
        "id": "G3vfT13dx49q"
      },
      "outputs": [],
      "source": [
        "print(x,y)"
      ]
    },
    {
      "cell_type": "markdown",
      "metadata": {
        "id": "MXyOJPt3x49q"
      },
      "source": [
        "Otra forma de hacer lo mismo"
      ]
    },
    {
      "cell_type": "code",
      "execution_count": null,
      "metadata": {
        "id": "k9LPwHEwx49r"
      },
      "outputs": [],
      "source": [
        "x,y = 1,3\n",
        "print(x,y)"
      ]
    },
    {
      "cell_type": "markdown",
      "metadata": {
        "id": "ujPmA692x49r"
      },
      "source": [
        "Esta notación es en realidad una forma abreviada de escribir una *tupla*, una de las estructuras de las que dispone Python para agregar elementos.\n",
        "\n",
        "La forma no abreviada:"
      ]
    },
    {
      "cell_type": "code",
      "execution_count": null,
      "metadata": {
        "id": "9Tp01x1Lx49r"
      },
      "outputs": [],
      "source": [
        "z = (x,y) = (1,\"hola\")\n",
        "print(z,type(z))"
      ]
    },
    {
      "cell_type": "markdown",
      "metadata": {
        "id": "fiOi8EFKx49r"
      },
      "source": [
        "Nótese que las tuplas permiten tener elementos ordenados agregados. Otras formas son los strings y las listas. Los tres tipos, strings, listas y tuplas constituyen las *secuencias de Python*"
      ]
    },
    {
      "cell_type": "markdown",
      "metadata": {
        "id": "KR_js_-2x49s"
      },
      "source": [
        "###### Ejercicio 3. *¿Cómo declarar en una sola línea dos variables x,y haciendo que la primera tome el valor 1 y la segunda el valor 2?*"
      ]
    },
    {
      "cell_type": "code",
      "execution_count": null,
      "metadata": {
        "id": "VWdrPp2zx49s"
      },
      "outputs": [],
      "source": [
        "# escribir aquí la solución\n"
      ]
    },
    {
      "cell_type": "markdown",
      "metadata": {
        "id": "8LAzeb1wx49s"
      },
      "source": [
        "###### Ejercicio 4. ¿Qué hará el siguiente código?  (para probarlo quitar el símbolo de comentario #)"
      ]
    },
    {
      "cell_type": "code",
      "execution_count": null,
      "metadata": {
        "id": "nDDeNVozx49t"
      },
      "outputs": [],
      "source": [
        "x = y = 5\n",
        "x += 1\n",
        "y = y+x-2\n",
        "#print(x,y)"
      ]
    },
    {
      "cell_type": "markdown",
      "metadata": {
        "id": "bDgzcxrEx49u"
      },
      "source": [
        "<a name=\"Instrucciones\"></a>\n",
        "## Instrucciones"
      ]
    },
    {
      "cell_type": "markdown",
      "metadata": {
        "id": "c8DAe97ax49u"
      },
      "source": [
        "Como hemos visto, Python ejecuta instrucciones en secuencia, de arriba hacia abajo. Cada instrucción ocupa en principio una línea:"
      ]
    },
    {
      "cell_type": "code",
      "execution_count": null,
      "metadata": {
        "id": "jj2wo5Qmx49u"
      },
      "outputs": [],
      "source": [
        "x=3\n",
        "y=4\n",
        "print(x+y)"
      ]
    },
    {
      "cell_type": "markdown",
      "metadata": {
        "id": "V1D9Ewwyx49u"
      },
      "source": [
        "Sin embargo, en ocasiones, queremos que una instrucción ocupe más de una línea, por legilibidad"
      ]
    },
    {
      "cell_type": "code",
      "execution_count": null,
      "metadata": {
        "id": "ob1LphwOx49u"
      },
      "outputs": [],
      "source": [
        "a = 1 + 2 + 3 +\n",
        "4 + 5 + 6 +\n",
        "7 + 8 + 9"
      ]
    },
    {
      "cell_type": "markdown",
      "metadata": {
        "id": "hRsgZk-sx49u"
      },
      "source": [
        "Para solucionar esto hay varias formas. Una es usar el marcador '\\\\' para indicar que se continua por la línea de abajo"
      ]
    },
    {
      "cell_type": "code",
      "execution_count": null,
      "metadata": {
        "id": "vNujraLbx49v"
      },
      "outputs": [],
      "source": [
        "a = 1 + 2 + 3 + \\\n",
        "    4 + 5 + 6 + \\\n",
        "    7 + 8 + 9"
      ]
    },
    {
      "cell_type": "markdown",
      "metadata": {
        "id": "QsEcZaL1x49w"
      },
      "source": [
        "También se pueden usar paréntesis, en este caso Python asume que la línea siguiente forma parte de la misma instrucción"
      ]
    },
    {
      "cell_type": "code",
      "execution_count": null,
      "metadata": {
        "id": "Iem-ggIlx49w"
      },
      "outputs": [],
      "source": [
        "a = (1 + 2 + 3 +\n",
        "    4 + 5 + 6 +\n",
        "    7 + 8 + 9)"
      ]
    },
    {
      "cell_type": "markdown",
      "metadata": {
        "id": "C5FnU5mbx49w"
      },
      "source": [
        "<a name=\"Operadores\"></a>\n",
        "## Operadores"
      ]
    },
    {
      "cell_type": "markdown",
      "metadata": {
        "id": "HWVW7WJ3x49x"
      },
      "source": [
        "<a name=\"Operadores-aritméticos\"></a>\n",
        "### Operadores aritméticos"
      ]
    },
    {
      "cell_type": "markdown",
      "metadata": {
        "id": "rReFbKnicFQb"
      },
      "source": [
        "Una lista de los operadores aritméticos más comunes (que posteriormente ampliaremos con las bibliotecas math, numpy y pandas)"
      ]
    },
    {
      "cell_type": "markdown",
      "metadata": {
        "id": "ph9DOD-yx49x"
      },
      "source": [
        "| Símbolo | Función |\n",
        "|----|---|\n",
        "| +  | suma |\n",
        "| -  | resta |\n",
        "| /  | división |\n",
        "| %  | módulo |\n",
        "| *  | multiplicación |\n",
        "| //  | división entera |\n",
        "| **  | Potencia |"
      ]
    },
    {
      "cell_type": "markdown",
      "metadata": {
        "id": "j_8s1DwzAQL2"
      },
      "source": [
        "Una operación muy común es incrementar una variable:"
      ]
    },
    {
      "cell_type": "code",
      "execution_count": null,
      "metadata": {
        "id": "FEcE5Y2wAQL2"
      },
      "outputs": [],
      "source": [
        "x=0\n",
        "x = x+1"
      ]
    },
    {
      "cell_type": "markdown",
      "metadata": {
        "id": "QxjHU-5oAQL2"
      },
      "source": [
        "Python admite una forma abreviada:"
      ]
    },
    {
      "cell_type": "code",
      "execution_count": null,
      "metadata": {
        "id": "Hg1So5ZQAQL2"
      },
      "outputs": [],
      "source": [
        "x +=1"
      ]
    },
    {
      "cell_type": "markdown",
      "metadata": {
        "id": "ZhfMHFTEAQL2"
      },
      "source": [
        "En cambio, y a diferencia de otros lenguajes, no admite la notación x++ para incrementar en uno.\n",
        "\n",
        "Una ventaja con respecto a otros lenguajes es que se pueden hacer operaciones con enteros de precisión arbitraria:"
      ]
    },
    {
      "cell_type": "code",
      "execution_count": null,
      "metadata": {
        "id": "ZW8nM3_Xx49x"
      },
      "outputs": [],
      "source": [
        "1+2000000000000000000000000000000000000000000000000000000000000000000000000000000000000000000000000000000"
      ]
    },
    {
      "cell_type": "code",
      "execution_count": null,
      "metadata": {
        "id": "6ditnDvvx49x"
      },
      "outputs": [],
      "source": [
        "200000000-1"
      ]
    },
    {
      "cell_type": "code",
      "execution_count": null,
      "metadata": {
        "id": "irpG9Yp_x49x"
      },
      "outputs": [],
      "source": [
        "1*2"
      ]
    },
    {
      "cell_type": "markdown",
      "metadata": {
        "id": "d9OwjLAbx49y"
      },
      "source": [
        "**Ejercicio 5** Explicar el comportamiento en cada caso"
      ]
    },
    {
      "cell_type": "code",
      "execution_count": null,
      "metadata": {
        "id": "pMfDfCOrx49y"
      },
      "outputs": [],
      "source": [
        "1/2"
      ]
    },
    {
      "cell_type": "code",
      "execution_count": null,
      "metadata": {
        "id": "euTr4Osqx49y"
      },
      "outputs": [],
      "source": [
        "1/2.0"
      ]
    },
    {
      "cell_type": "code",
      "execution_count": null,
      "metadata": {
        "id": "2Zjtto14x49z"
      },
      "outputs": [],
      "source": [
        "1//2"
      ]
    },
    {
      "cell_type": "code",
      "execution_count": null,
      "metadata": {
        "id": "q3Qa4-4Ax49z"
      },
      "outputs": [],
      "source": [
        "15%10"
      ]
    },
    {
      "cell_type": "markdown",
      "metadata": {
        "id": "CsuBf6hmx49z"
      },
      "source": [
        "En el caso de trabajar con números reales también se puede obtener el resultado de truncar el resultado de la división"
      ]
    },
    {
      "cell_type": "code",
      "execution_count": null,
      "metadata": {
        "id": "uBQTjB62x49z"
      },
      "outputs": [],
      "source": [
        "1.9//1.0"
      ]
    },
    {
      "cell_type": "markdown",
      "source": [
        "**Ejemplo** Si pongo un 1000 euros al 2.5% de interes a 3 años ¿cuánto dinero recibiremos?\n",
        "\n",
        "Utilizamos la fórmula  $\\mathit{cf} = \\mathit{pv} \\times (1+i)^p$, con $\\mathit{pv}$ el valor inical, $i$ el interés y $p$ el periodo"
      ],
      "metadata": {
        "id": "Tw22Wxj6lBPp"
      }
    },
    {
      "cell_type": "code",
      "source": [
        "i =  0.025\n",
        "pv = 1000\n",
        "p = 3\n",
        "cf = pv * ((1+i)**p)\n",
        "print(cf)"
      ],
      "metadata": {
        "id": "UMtmnabkk7bh"
      },
      "execution_count": null,
      "outputs": []
    },
    {
      "cell_type": "markdown",
      "source": [
        "**Ejercicio** Ahora conocemos el cash flow cf, que es 1000, y el interés, que es el 11% (0.11), además del periodo: 10 años. ¿Cuál era el price value inicial?"
      ],
      "metadata": {
        "id": "XMvPb4wnmLci"
      }
    },
    {
      "cell_type": "code",
      "source": [
        "i =  0.11\n",
        "cf = 1000\n",
        "p = 10\n",
        "# completar aquí debajo"
      ],
      "metadata": {
        "id": "tv393UAXmJ_a"
      },
      "execution_count": null,
      "outputs": []
    },
    {
      "cell_type": "markdown",
      "source": [
        "<a name=\"Funciones-de-usuario\"></a>\n",
        "## Funciones de usuario\n",
        "Cuando tenemos un código que vamos a utilizar a menudo, como por ejemplo\n",
        "\n",
        "    cf = pv * ((1+i)**p)\n",
        "\n",
        "que depende de unos valores concretos, pv, i, p, podemos escribir una función en Python"
      ],
      "metadata": {
        "id": "y_t11UcEq2l5"
      }
    },
    {
      "cell_type": "code",
      "source": [
        "def interés(pv, i, p):\n",
        "  cf = pv * ((1+i)**p)\n",
        "  return cf"
      ],
      "metadata": {
        "id": "MkGqu9QlogC6"
      },
      "execution_count": null,
      "outputs": []
    },
    {
      "cell_type": "code",
      "source": [
        "print(interés(1000,0.025,3))"
      ],
      "metadata": {
        "id": "zzWo8hMmsYdp"
      },
      "execution_count": null,
      "outputs": []
    },
    {
      "cell_type": "code",
      "source": [
        "print(interés(1000,0.025,10))"
      ],
      "metadata": {
        "id": "6c6Afm1gsn4x"
      },
      "execution_count": null,
      "outputs": []
    },
    {
      "cell_type": "markdown",
      "source": [
        "**Ejercicio** Escribir una función `present_value` para calcular el pv a partir de cf i, y p"
      ],
      "metadata": {
        "id": "mrj93s5ptRpR"
      }
    },
    {
      "cell_type": "code",
      "source": [],
      "metadata": {
        "id": "GJpvPAhutTrC"
      },
      "execution_count": null,
      "outputs": []
    },
    {
      "cell_type": "markdown",
      "source": [
        "Añadir código para probar la función"
      ],
      "metadata": {
        "id": "eT9bQa6muybx"
      }
    },
    {
      "cell_type": "code",
      "source": [],
      "metadata": {
        "id": "GoVgJKfwu1Rr"
      },
      "execution_count": null,
      "outputs": []
    },
    {
      "cell_type": "markdown",
      "source": [
        "Notas:\n",
        "\n",
        "- Las funciones de usuario son poderosas y complejas, las volveremos a ver en más detalle\n",
        "\n",
        "- De momento quedémonos con la idea de que reciben unos valores de entrada (los parámetros) y devuelven con `return` un valor, el resultado\n",
        "\n",
        "- Al llamarlas tenemos que tener cuidado en pasarles tantos valores de llamada como parámetros y en el orden adecuado\n",
        "\n",
        "- Deben verse como \"cajas negras\"; las variables que aparecen como parámetros y las variables que se definan dentro de la función \"nacen y mueren\" cada vez, no son visibles para el resto del código"
      ],
      "metadata": {
        "id": "pA46K2HWtxrx"
      }
    },
    {
      "cell_type": "markdown",
      "source": [
        "**Ejercicio**\n",
        "\n",
        "¿Qué devolverá la siguiente expresión?\n",
        "\n",
        "    present_value( interés(1000,0.025,3), 0.025,3)\n"
      ],
      "metadata": {
        "id": "JuqtjTASvCp6"
      }
    },
    {
      "cell_type": "code",
      "source": [],
      "metadata": {
        "id": "VksS2xQsvWsi"
      },
      "execution_count": null,
      "outputs": []
    },
    {
      "cell_type": "markdown",
      "metadata": {
        "id": "85EC0pHYx490"
      },
      "source": [
        "<a name=\"Operadores-relacionales\"></a>\n",
        "### Operadores relacionales"
      ]
    },
    {
      "cell_type": "markdown",
      "metadata": {
        "id": "vsKOZeDCx490"
      },
      "source": [
        "Son operadores que pueden devolver los valores True (cierto) o False (falso). En programación estos valores son básicos para permitir la toma de decisiones y van a jugar un papel fundamental en el tratamiento de datos permitiéndonos elegir, por ejemplo, a los elementos que cumplen una cierta propiedad\n",
        "\n",
        "En programación llamamos a estos valores (True,False) *valores booleanos* o *valores lógicos*"
      ]
    },
    {
      "cell_type": "markdown",
      "metadata": {
        "id": "mNwj--92x490"
      },
      "source": [
        "| Operador | Significado |\n",
        "|----|---|\n",
        "| == | True, si los dos operandos son iguales, False e.o.c. |\n",
        "| !=  | True, si los dos operandos son diferente, False e.o.c. |\n",
        "| < | menor |\n",
        "| > | mayor  |\n",
        "| <=  | menor o igual  |\n",
        "| >=  | mayor o igual |"
      ]
    },
    {
      "cell_type": "markdown",
      "metadata": {
        "id": "TmZ3V7f7cs1x"
      },
      "source": [
        "Es fundamental distinguir entre el operador de asignación =, que da valor a una variable, y el operador de comparación == que indica si dos valores son iguales o no"
      ]
    },
    {
      "cell_type": "code",
      "execution_count": null,
      "metadata": {
        "id": "r4Pp6KRtx490"
      },
      "outputs": [],
      "source": [
        "z = 1\n",
        "print(z)"
      ]
    },
    {
      "cell_type": "code",
      "execution_count": null,
      "metadata": {
        "id": "te4asUX4x491"
      },
      "outputs": [],
      "source": [
        "z == 2"
      ]
    },
    {
      "cell_type": "code",
      "execution_count": null,
      "metadata": {
        "id": "GJwgV-Ygx491"
      },
      "outputs": [],
      "source": [
        "z = 1\n",
        "print(z==2,type(z==2))"
      ]
    },
    {
      "cell_type": "code",
      "execution_count": null,
      "metadata": {
        "id": "8I1Bo1JKx491"
      },
      "outputs": [],
      "source": [
        "z > 1"
      ]
    },
    {
      "cell_type": "markdown",
      "metadata": {
        "id": "ptjnx8OWx492"
      },
      "source": [
        "Una propiedad muy interesante de los booleanos es que se convierten automáticamente en enteros. False se convierte en 0, y True en 1"
      ]
    },
    {
      "cell_type": "code",
      "execution_count": null,
      "metadata": {
        "id": "DbXYsptCx492"
      },
      "outputs": [],
      "source": [
        "(z==1)+1"
      ]
    },
    {
      "cell_type": "markdown",
      "metadata": {
        "id": "zt90Okmld_gy"
      },
      "source": [
        "**Ejercicio 6** ¿Para qué valores de x devolverá True la siguiente (extraña) expresión?"
      ]
    },
    {
      "cell_type": "code",
      "execution_count": null,
      "metadata": {
        "id": "wPHzCmiXeBgC"
      },
      "outputs": [],
      "source": [
        "x=4\n",
        "(x>3)+(x!=7)>1"
      ]
    },
    {
      "cell_type": "markdown",
      "metadata": {
        "id": "qpFtt5P6flNh"
      },
      "source": [
        "Es necesario advertir que esta expresión extraña es poco o nada común, y que solo la incluídmos para entender un tipo de lógica que emplearemos más adelante en la gestión de datos."
      ]
    },
    {
      "cell_type": "markdown",
      "metadata": {
        "id": "Pf7R2zzlx493"
      },
      "source": [
        "**Ejercicio 7** (difícil, curiosidad) escribir una expresión que le asigne a la variable z el mayor valor entre x e y utilizando solo lo visto hasta ahora <br>\n",
        "Pista: (x>y) vale True, o lo que es lo mismo 1, si x es mayor que y"
      ]
    },
    {
      "cell_type": "code",
      "execution_count": null,
      "metadata": {
        "id": "CQ7MTOQXx493"
      },
      "outputs": [],
      "source": [
        "x = 50\n",
        "y = 30\n",
        "# quitar el comentario e abajo y completar\n",
        "\n",
        "#print(z)"
      ]
    },
    {
      "cell_type": "markdown",
      "metadata": {
        "id": "_VByblUMx494"
      },
      "source": [
        "<a name=\"Operadores-booleanos\"></a>\n",
        "### Operadores booleanos"
      ]
    },
    {
      "cell_type": "markdown",
      "metadata": {
        "id": "mH-1keRTx494"
      },
      "source": [
        "Sean x e y dos variables booleanas (tienen True o False), podemos combinar sus valores con los operadores\n",
        "\n",
        "| Símbolo | Significado |\n",
        "|----|---|\n",
        "| x and y  | Conjunción: si x es True, entonces y, si no  False |\n",
        "| x or y  | disyunción lógica: si x es False, entonces y, si no True |\n",
        "| not(x)  | si x es True false, en otro caso True |\n",
        "\n",
        "\n"
      ]
    },
    {
      "cell_type": "code",
      "execution_count": null,
      "metadata": {
        "id": "GiEzzqj2AQL5"
      },
      "outputs": [],
      "source": [
        "x=10\n",
        "y=1\n",
        "(x>5) and (y>5)"
      ]
    },
    {
      "cell_type": "markdown",
      "metadata": {
        "id": "FqJE75G3gK0h"
      },
      "source": [
        "El `and` se evalúa a True si los dos valores se evalúan a True Una característica interesante es que si el valor más a la izquierda es False ya no se mira el segundo valor, el resultado es Falso sin más. Esto será útil para evitar casos como el siguiente:"
      ]
    },
    {
      "cell_type": "code",
      "execution_count": null,
      "metadata": {
        "id": "2A9vXdWzAQL5"
      },
      "outputs": [],
      "source": [
        "x=0\n",
        "3/x > 5"
      ]
    },
    {
      "cell_type": "code",
      "execution_count": null,
      "metadata": {
        "id": "9qKsNO1Sx495"
      },
      "outputs": [],
      "source": [
        "(x!=0) and (3/x > 5)"
      ]
    },
    {
      "cell_type": "code",
      "execution_count": null,
      "metadata": {
        "id": "z3M21-XBx495"
      },
      "outputs": [],
      "source": [
        "x=5\n",
        "y=3\n",
        "w = x>y and x!=6\n",
        "print(w)"
      ]
    },
    {
      "cell_type": "markdown",
      "metadata": {
        "id": "2iafkgS9hVBy"
      },
      "source": [
        "Un ejemplo del uso de `not`"
      ]
    },
    {
      "cell_type": "code",
      "execution_count": null,
      "metadata": {
        "id": "Ozy24yFxAQL5"
      },
      "outputs": [],
      "source": [
        "num_vidas = 9\n",
        "tiempo = 9\n",
        "vivo= num_vidas>0 and tiempo>0\n",
        "\n",
        "#muerto = num_vidas <= 0 or tiempo <= 0\n",
        "muerto = not(vivo)\n",
        "\n"
      ]
    },
    {
      "cell_type": "markdown",
      "metadata": {
        "id": "UaWkv_yTx4-M"
      },
      "source": [
        "<a name=\"Importación-de-bibliotecas\"></a>\n",
        "## Importación de bibliotecas\n"
      ]
    },
    {
      "cell_type": "markdown",
      "metadata": {
        "id": "bKrvb-b1x4-M"
      },
      "source": [
        "Una de las razones del éxito de Python es la gran cantidad de *bibliotecas* que contienen funciones útiles. Estas bibliotecas ( o módulos, como se denominan en Python) se pueden instalar desde una consola (una consola de Anaconda si estamos en este sistema)\n",
        "\n",
        "\n",
        "    pip install modulo\n",
        "\n",
        "\n",
        "o, si no tenemos permiso para instalar para todos los usuarios\n",
        "\n",
        "    pip install --user  modulo\n",
        "    \n",
        "En algunos sistemas puede que en lugar de *pip* tengamos que utilizar *pip3*.\n",
        "\n",
        "El siguiente ejemplo importa (hace visible al programa) los módulos random y math"
      ]
    },
    {
      "cell_type": "code",
      "execution_count": null,
      "metadata": {
        "id": "Gw7xDigfx4-M"
      },
      "outputs": [],
      "source": [
        "import random\n",
        "import math\n",
        "\n",
        "\n",
        "for i in range(5):\n",
        "    print(random.randint(1, 25))\n",
        "\n",
        "print(math.pi)"
      ]
    },
    {
      "cell_type": "markdown",
      "metadata": {
        "id": "5ugC73QTx4-N"
      },
      "source": [
        "Lo de escribir\n",
        "\n",
        "        random.randint\n",
        "\n",
        "todo el tiempo puede resultar molesto. Si queremos usar solo randint podemos poner:"
      ]
    },
    {
      "cell_type": "code",
      "execution_count": null,
      "metadata": {
        "id": "xk3HNBNlx4-N"
      },
      "outputs": [],
      "source": [
        "from random import randint\n",
        "from math import pi\n",
        "\n",
        "\n",
        "for i in range(5):\n",
        "    print(randint(1, 25))\n",
        "\n",
        "print(pi)"
      ]
    },
    {
      "cell_type": "markdown",
      "metadata": {
        "id": "12GADDEvx4-N"
      },
      "source": [
        "Una última posibilidad es renombrar para utilizar nombres más cortos. El siguiente ejemplo (que no hace falta entender completamente) utiliza esta posibilidad para dibujar gráficos de barras"
      ]
    },
    {
      "cell_type": "code",
      "execution_count": null,
      "metadata": {
        "id": "uTR3liuTx4-N",
        "scrolled": true
      },
      "outputs": [],
      "source": [
        "import matplotlib.pyplot as plt\n",
        "\n",
        "# Función de interés compuesto\n",
        "def interes(pv, i, p):\n",
        "    cf = pv * ((1 + i) ** p)\n",
        "    return cf\n",
        "\n",
        "# Parámetros\n",
        "pv = 1000          # capital inicial\n",
        "i = 0.025          # interés anual (2.5%)\n",
        "años = list(range(11))  # de 0 a 10 años\n",
        "\n",
        "# Calcular valores para cada año\n",
        "valores = [interes(pv, i, p) for p in años]\n",
        "\n",
        "# Graficar\n",
        "plt.figure(figsize=(8, 5))\n",
        "plt.plot(años, valores, marker='o')\n",
        "plt.title('Evolución del dinero a lo largo del tiempo')\n",
        "plt.xlabel('Años')\n",
        "plt.ylabel('Capital acumulado (€)')\n",
        "plt.grid(True)\n",
        "plt.xticks(años)\n",
        "plt.show()"
      ]
    },
    {
      "cell_type": "markdown",
      "metadata": {
        "id": "9PAvL8vox4-P"
      },
      "source": [
        "<a name=\"Conversión-entre-tipos\"></a>\n",
        "### Conversión entre tipos"
      ]
    },
    {
      "cell_type": "markdown",
      "metadata": {
        "id": "WY0RkKpnx4-P"
      },
      "source": [
        "La función predefinida **int( )** se puede convertir para convertir un número real en su parte entera, o para convertir un número entre comillas en su versión como entero (es decir, si no se pone segundo parámetro se asume implícitamente base 10).\n",
        "\n",
        "Para este último uso, conversión de *string* a *int*, disponemos también de una función inversa,  **str( )** que convierte un entero en string.\n",
        "\n"
      ]
    },
    {
      "cell_type": "code",
      "execution_count": null,
      "metadata": {
        "id": "HqWyDj0lx4-Q"
      },
      "outputs": [],
      "source": [
        "print(int(7.7))\n",
        "print(int('8'))"
      ]
    },
    {
      "cell_type": "markdown",
      "metadata": {
        "id": "u-PHZ59px4-Q"
      },
      "source": [
        "**Observaciones:**\n",
        "\n",
        "* A este tipo de funciones que pasan de un tipo a otro se conoce como *funciones de conversión de tipo*\n",
        "*  Aunque generalmente no nos preocupamos de pensar en los tipos, el sistema comprueba que no mezclemos tipos diferentes en una misma expresión, y si lo hacemos obtendremos un error (a no ser que sea posible una *conversión automática de tipos*)"
      ]
    },
    {
      "cell_type": "code",
      "execution_count": null,
      "metadata": {
        "id": "1fi-rlJPx4-Q"
      },
      "outputs": [],
      "source": [
        "x = '12'\n",
        "# 3+x  # error!!!!\n",
        "3 + int(x)"
      ]
    },
    {
      "cell_type": "markdown",
      "metadata": {
        "id": "WkJG140Kx4-Q"
      },
      "source": [
        "De manera similar, **float(x)**  convierte una cadena x en su representación como número real.\n",
        "\n"
      ]
    },
    {
      "cell_type": "code",
      "execution_count": null,
      "metadata": {
        "id": "P0MbPajix4-R"
      },
      "outputs": [],
      "source": [
        "pi = '3.1415'\n",
        "2*(float(pi))"
      ]
    },
    {
      "cell_type": "markdown",
      "metadata": {
        "id": "a3vZUMcVx4-R"
      },
      "source": [
        "**chr( )** se utiliza para convertir un entero a su equivalente alfabético, mientras que **ord( )** es su función inversa."
      ]
    },
    {
      "cell_type": "code",
      "execution_count": null,
      "metadata": {
        "id": "iKCdQKIhx4-R"
      },
      "outputs": [],
      "source": [
        "chr(98)"
      ]
    },
    {
      "cell_type": "code",
      "execution_count": null,
      "metadata": {
        "id": "oNlCo1y3x4-R"
      },
      "outputs": [],
      "source": [
        "ord('b')"
      ]
    }
  ],
  "metadata": {
    "colab": {
      "provenance": [],
      "include_colab_link": true
    },
    "kernelspec": {
      "display_name": "Python 3 (ipykernel)",
      "language": "python",
      "name": "python3"
    },
    "language_info": {
      "codemirror_mode": {
        "name": "ipython",
        "version": 3
      },
      "file_extension": ".py",
      "mimetype": "text/x-python",
      "name": "python",
      "nbconvert_exporter": "python",
      "pygments_lexer": "ipython3",
      "version": "3.9.12"
    }
  },
  "nbformat": 4,
  "nbformat_minor": 0
}