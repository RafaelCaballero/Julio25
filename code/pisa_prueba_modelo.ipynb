{
  "nbformat": 4,
  "nbformat_minor": 0,
  "metadata": {
    "colab": {
      "provenance": [],
      "authorship_tag": "ABX9TyOvrNmMbAn5aC+EtibH8xpi",
      "include_colab_link": true
    },
    "kernelspec": {
      "name": "python3",
      "display_name": "Python 3"
    },
    "language_info": {
      "name": "python"
    }
  },
  "cells": [
    {
      "cell_type": "markdown",
      "metadata": {
        "id": "view-in-github",
        "colab_type": "text"
      },
      "source": [
        "<a href=\"https://colab.research.google.com/github/RafaelCaballero/Julio25/blob/main/code/pisa_prueba_modelo.ipynb\" target=\"_parent\"><img src=\"https://colab.research.google.com/assets/colab-badge.svg\" alt=\"Open In Colab\"/></a>"
      ]
    },
    {
      "cell_type": "code",
      "execution_count": null,
      "metadata": {
        "id": "FSmZfT2rTvou"
      },
      "outputs": [],
      "source": [
        "import joblib\n",
        "import pandas as pd\n",
        "\n",
        "# 1) Cargar el modelo que generamos en el notebook 19cv\n",
        "ruta = \"modelo_pisa.gz\"\n",
        "modelo = joblib.load(ruta)\n",
        "\n",
        "# datos\n",
        "X_nuevo = pd.DataFrame([\n",
        "    [400,300], [450,250], [300,450]\n",
        "],columns = [\"SCI\", \"REA\"])\n",
        "\n",
        "# 3) Predecir\n",
        "y_pred = modelo.predict(X_nuevo)\n",
        "\n",
        "print(y_pred)"
      ]
    },
    {
      "cell_type": "code",
      "source": [],
      "metadata": {
        "id": "jQCTwG5KUifP"
      },
      "execution_count": null,
      "outputs": []
    }
  ]
}