{
  "nbformat": 4,
  "nbformat_minor": 0,
  "metadata": {
    "colab": {
      "provenance": [],
      "authorship_tag": "ABX9TyPcwd1Z/JroXEYUO44+vu5t",
      "include_colab_link": true
    },
    "kernelspec": {
      "name": "python3",
      "display_name": "Python 3"
    },
    "language_info": {
      "name": "python"
    }
  },
  "cells": [
    {
      "cell_type": "markdown",
      "metadata": {
        "id": "view-in-github",
        "colab_type": "text"
      },
      "source": [
        "<a href=\"https://colab.research.google.com/github/RafaelCaballero/Julio25/blob/main/code/19cv.ipynb\" target=\"_parent\"><img src=\"https://colab.research.google.com/assets/colab-badge.svg\" alt=\"Open In Colab\"/></a>"
      ]
    },
    {
      "cell_type": "markdown",
      "source": [
        "# Introducción a la ciencia de datos con Python\n",
        "\n",
        "## Regresión lineal con validación cruzada\n",
        "\n",
        "### Rafael Caballero\n",
        "\n",
        "Vamos a ver un ejemplo completo de uso de regresión lineal.\n",
        "\n",
        "#### Paso 0: importar librerías y cargar y preprocesar datos"
      ],
      "metadata": {
        "id": "hFrWeoI30xj_"
      }
    },
    {
      "cell_type": "code",
      "execution_count": null,
      "metadata": {
        "id": "E8KO6zr50wJE"
      },
      "outputs": [],
      "source": [
        "import pandas as pd\n",
        "import numpy as np\n",
        "from sklearn.linear_model import LinearRegression\n",
        "from sklearn.model_selection import RepeatedKFold, cross_validate\n",
        "from sklearn.metrics import mean_squared_error, make_scorer\n",
        "from math import sqrt\n",
        "import scipy.stats as stats\n",
        "import numpy as np\n",
        "import matplotlib.pyplot as plt\n",
        "\n",
        "\n",
        "#  Paso 0: Carga y preparación del fichero\n",
        "import pandas as pd\n",
        "url = \"https://raw.githubusercontent.com/RafaelCaballero/tdm/master/datos/pisaDataClean.csv\"\n",
        "df = pd.read_csv(url)\n",
        "\n"
      ]
    },
    {
      "cell_type": "markdown",
      "source": [
        "#### Paso 1 :configuración\n",
        "Seleccionar las columnas que vamos a utilizar como X y como y\n",
        "\n",
        "También se puede incluir en estse"
      ],
      "metadata": {
        "id": "QmTd4Omv2CTx"
      }
    },
    {
      "cell_type": "code",
      "source": [
        "# Paso 1: Dividir las columnas en X e y e.\n",
        "# Nuestro objetivo será deducir la columna MAT (y) desde dos columnas: SCI y REA, que serán las X\n",
        "XColumns = [\"SCI\", \"REA\"] # una lista de columnas: las X, las características, las features, las dimensiones...\n",
        "yColumn = \"MAT\"  # la y, siempre una única columna\n",
        "# dividimos en dos; X será un dataframe, y una columna (tipo Series)\n",
        "X = df[XColumns]\n",
        "y = df[yColumn]\n",
        "\n",
        "\n",
        "# número de divisiones para validación cruzada, e int. de confianza\n",
        "repeticiones   = 100  # número de repeticiones del experimento\n",
        "divisiones = 10  # número de divisiones cada vez\n",
        "\n",
        "# error a manejar\n",
        "medidor_error=make_scorer(mean_squared_error, greater_is_better=False)\n",
        "\n"
      ],
      "metadata": {
        "id": "ykUXOt0515-S"
      },
      "execution_count": null,
      "outputs": []
    },
    {
      "cell_type": "markdown",
      "source": [
        "3.- Declarar el método y entrenar con el conjunto train, obteniendo un modelo\n",
        "\n",
        "Recordar que esta fase es la más lenta"
      ],
      "metadata": {
        "id": "XVAHU0DHJYPq"
      }
    },
    {
      "cell_type": "code",
      "source": [
        "\n",
        "repartidor   = RepeatedKFold(n_splits=divisiones, n_repeats=repeticiones)\n",
        "método = LinearRegression()\n",
        "cv_res  = cross_validate(método, X, y,\n",
        "                         cv=repartidor,\n",
        "                         return_estimator=True,  # devuelve los 1000 modelos!\n",
        "                         scoring=medidor_error)\n",
        "\n",
        "\n"
      ],
      "metadata": {
        "id": "NHsZEL1mJev7"
      },
      "execution_count": null,
      "outputs": []
    },
    {
      "cell_type": "markdown",
      "source": [
        "4 Cálculo del error\n",
        "\n",
        "Siemplemente lo obtenemos como la media de los errores obtenidos en cada valor;\n",
        "\n",
        "si quisiéramos podríamos obtener también un intervalo de confianza para el error"
      ],
      "metadata": {
        "id": "vgYYIe2tMquJ"
      }
    },
    {
      "cell_type": "code",
      "source": [
        "# ojo porque los valores obtenidos son negativos\n",
        "mse_neg = cv_res[\"test_score\"]\n",
        "rmse    = np.sqrt(-mse_neg)\n",
        "rmse_final = rmse.mean()\n",
        "print(f\"RMSE: {rmse_final:.3f}\")"
      ],
      "metadata": {
        "id": "Jc7mxJmxK6Wa"
      },
      "execution_count": null,
      "outputs": []
    },
    {
      "cell_type": "markdown",
      "source": [
        "Gráfica de la distribución del error"
      ],
      "metadata": {
        "id": "j2tdm4GN1TUU"
      }
    },
    {
      "cell_type": "code",
      "source": [
        "plt.hist(rmse, bins=20)\n",
        "plt.xlabel(\"RMSE\")\n",
        "plt.ylabel(\"Frecuencia\")\n",
        "plt.title(\"Distribución de RMSE en los 200 folds\")\n",
        "plt.show()\n",
        "\n"
      ],
      "metadata": {
        "id": "P0l-ht2C1RhG"
      },
      "execution_count": null,
      "outputs": []
    },
    {
      "cell_type": "markdown",
      "source": [
        "### 5 Obtener el modelo final y  grabarlo\n",
        "\n",
        "Si estamos satisfechos con el resultado ahora entrenamos con el modelo completo"
      ],
      "metadata": {
        "id": "eFbZnyXXOGbp"
      }
    },
    {
      "cell_type": "code",
      "source": [
        "from sklearn.linear_model import LinearRegression\n",
        "\n",
        "método = LinearRegression()\n",
        "modelo_final = método.fit(X, y)"
      ],
      "metadata": {
        "id": "o1vsjMRy0w8x"
      },
      "execution_count": null,
      "outputs": []
    },
    {
      "cell_type": "markdown",
      "source": [
        "Podemos guardar el resultado"
      ],
      "metadata": {
        "id": "42jVPv4MOeIw"
      }
    },
    {
      "cell_type": "code",
      "source": [
        "import joblib\n",
        "\n",
        "fichero = \"modelo_pisa.gz\"\n",
        "joblib.dump(modelo_final, fichero, compress=True)"
      ],
      "metadata": {
        "id": "AFVGc7hEOgen"
      },
      "execution_count": null,
      "outputs": []
    }
  ]
}