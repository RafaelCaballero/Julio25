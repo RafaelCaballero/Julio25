{
  "cells": [
    {
      "cell_type": "markdown",
      "metadata": {
        "id": "view-in-github",
        "colab_type": "text"
      },
      "source": [
        "<a href=\"https://colab.research.google.com/github/RafaelCaballero/Julio25/blob/main/code/28kmeans.ipynb\" target=\"_parent\"><img src=\"https://colab.research.google.com/assets/colab-badge.svg\" alt=\"Open In Colab\"/></a>"
      ]
    },
    {
      "cell_type": "markdown",
      "metadata": {
        "id": "lkFf39AWOIjm"
      },
      "source": [
        "# Introducción a la ciencia de datos con Python\n",
        "Rafa Caballero\n",
        "\n",
        "\n",
        "## 1 K-means (clustering the filas)\n",
        "\n",
        "Ejemplo de partida"
      ]
    },
    {
      "cell_type": "code",
      "execution_count": null,
      "metadata": {
        "id": "6nfoFd1NOIjp"
      },
      "outputs": [],
      "source": [
        "import random\n",
        "import pandas as pd\n",
        "import numpy as np\n",
        "import matplotlib.pyplot as plt\n",
        "%matplotlib inline\n",
        "\n",
        "df = pd.read_csv(\"https://raw.githubusercontent.com/RafaelCaballero/tdm/master/datos/bus.csv\")\n",
        "\n",
        "feat_cols= [\"I1\",\"I2\",\"I3\",\"I4\",\"I5\",\"I6\",\"I7\",\"I8\"]\n",
        "df"
      ]
    },
    {
      "cell_type": "markdown",
      "metadata": {
        "id": "rRX87gHLOOg1"
      },
      "source": [
        "### En busca de la K\n",
        "\n",
        "¿Cuál es el número óptimo de grupos?\n",
        "\n",
        "Primero lo hacemos a mano"
      ]
    },
    {
      "cell_type": "code",
      "execution_count": null,
      "metadata": {
        "id": "ItF-dsbcHbUC"
      },
      "outputs": [],
      "source": [
        "from sklearn.cluster import KMeans\n",
        "from sklearn.pipeline import Pipeline\n",
        "\n",
        "suma_de_cuadrados = []\n",
        "K = range(1,15)\n",
        "for k in K:\n",
        "    kmeans = KMeans(n_clusters=k,n_init='auto')\n",
        "    kmeans.fit_transform(df[feat_cols])\n",
        "    suma_de_cuadrados.append(kmeans.inertia_)\n",
        "\n",
        "# dibujamos la gráfica\n",
        "fig, ax = plt.subplots(figsize=(15, 5))\n",
        "ax.plot(K, suma_de_cuadrados,color=\"blue\")\n",
        "ax.set_xlabel('Valores de k')\n",
        "ax.set_ylabel('Suma de distancias al centroide')\n",
        "ax.grid( which='major', color='gray', linestyle='-')\n",
        "plt.title('Método del codo')\n",
        "plt.show()"
      ]
    },
    {
      "cell_type": "markdown",
      "metadata": {
        "id": "9wUIG6CdHbUC"
      },
      "source": [
        "Ahora con una librería"
      ]
    },
    {
      "cell_type": "code",
      "execution_count": null,
      "metadata": {
        "id": "oT--9jXlHbUD"
      },
      "outputs": [],
      "source": [
        "#!pip install yellowbrick --upgrade"
      ]
    },
    {
      "cell_type": "code",
      "execution_count": null,
      "metadata": {
        "id": "DDFZiLmiOIjs"
      },
      "outputs": [],
      "source": [
        "import warnings\n",
        "warnings.filterwarnings('ignore')\n",
        "\n",
        "from sklearn.cluster import KMeans\n",
        "from sklearn import preprocessing\n",
        "from yellowbrick.cluster import KElbowVisualizer\n",
        "\n",
        "\n",
        "df2 =  df[feat_cols]  # df2 es df restringido a las variables de interés\n",
        "\n",
        "\n",
        "# Modelo y visualizador\n",
        "model = KMeans()\n",
        "visualizer = KElbowVisualizer(model, k=(1,12))\n",
        "\n",
        "visualizer.fit(df2)      # Fit the data to the visualizer\n",
        "visualizer.show()"
      ]
    },
    {
      "cell_type": "code",
      "source": [],
      "metadata": {
        "id": "7Xt8kgrgZrf1"
      },
      "execution_count": null,
      "outputs": []
    },
    {
      "cell_type": "code",
      "source": [],
      "metadata": {
        "id": "tDdHSfVnZr11"
      },
      "execution_count": null,
      "outputs": []
    },
    {
      "cell_type": "markdown",
      "metadata": {
        "id": "4feZg_pKOX0z"
      },
      "source": [
        "Utilizamos k=3, 3 grupos"
      ]
    },
    {
      "cell_type": "code",
      "execution_count": null,
      "metadata": {
        "id": "u_h9RJKjOIju"
      },
      "outputs": [],
      "source": [
        "k=3\n",
        "model = KMeans(init='k-means++', n_clusters=k, n_init='auto')\n",
        "model.fit_transform(df[feat_cols])\n",
        "\n",
        "df2 = df.copy()\n",
        "df2[\"C\"] = model.labels_\n",
        "df2[\"Hora\"] = df[\"Hora\"]\n",
        "\n",
        "df2[:40]"
      ]
    },
    {
      "cell_type": "markdown",
      "metadata": {
        "id": "Yz8ARhdtHbUH"
      },
      "source": [
        "**Ejercicio** Queremos saber cúantos hay de cada cluster"
      ]
    },
    {
      "cell_type": "code",
      "source": [
        "df2[\"C\"].value_counts()"
      ],
      "metadata": {
        "id": "k5OYCUT5ErTa"
      },
      "execution_count": null,
      "outputs": []
    },
    {
      "cell_type": "markdown",
      "source": [
        "Mostramos ahora la relación con las horas"
      ],
      "metadata": {
        "id": "lZZvtIApIm3d"
      }
    },
    {
      "cell_type": "code",
      "source": [
        "import seaborn as sns\n",
        "sns.catplot(data=df2, y=\"Hora\", hue=\"C\",kind=\"count\",palette=\"pastel\")"
      ],
      "metadata": {
        "id": "Y3xe8GIiIDA0"
      },
      "execution_count": null,
      "outputs": []
    },
    {
      "cell_type": "code",
      "source": [
        "sns.histplot(\n",
        "    data=df2,\n",
        "    x=\"Hora\", hue=\"C\",\n",
        "    multiple=\"fill\", stat=\"proportion\",discrete=True,\n",
        "    palette=\"pastel\"\n",
        ")"
      ],
      "metadata": {
        "id": "7cfsAItrKFMY"
      },
      "execution_count": null,
      "outputs": []
    },
    {
      "cell_type": "markdown",
      "metadata": {
        "id": "TqJ7k6GMHbUJ"
      },
      "source": [
        "\n",
        "Centros"
      ]
    },
    {
      "cell_type": "code",
      "execution_count": null,
      "metadata": {
        "id": "Pvu3R0kSOIjx"
      },
      "outputs": [],
      "source": [
        "model.cluster_centers_"
      ]
    },
    {
      "cell_type": "markdown",
      "source": [
        "**Ejercicio** Repetir con k=2"
      ],
      "metadata": {
        "id": "qzZW8sF3KVhd"
      }
    },
    {
      "cell_type": "code",
      "execution_count": null,
      "metadata": {
        "id": "uFyVrlVVHbUL"
      },
      "outputs": [],
      "source": []
    },
    {
      "cell_type": "markdown",
      "source": [
        "## 2 Clustering Aglomerativo - Dendogramas\n",
        "\n",
        "Datos de prueba"
      ],
      "metadata": {
        "id": "MGU6dwElbfDj"
      }
    },
    {
      "cell_type": "code",
      "source": [
        "import numpy as np\n",
        "import matplotlib.pyplot as plt\n",
        "\n",
        "\n",
        "x = [4, 5, 10, 4, 3, 11, 14 , 6, 10, 12]\n",
        "y = [21, 19, 24, 17, 16, 25, 24, 22, 21, 21]\n",
        "\n",
        "plt.scatter(x, y)\n",
        "for i in range(len(x)):\n",
        "    plt.text(x[i]+0.3,y[i]-0.1,str(i))\n",
        "plt.show()"
      ],
      "metadata": {
        "id": "jDpsnyCvb6uZ"
      },
      "execution_count": null,
      "outputs": []
    },
    {
      "cell_type": "markdown",
      "source": [
        "Clustering bottom-up con dendogramas"
      ],
      "metadata": {
        "id": "sihG8oJpcAuB"
      }
    },
    {
      "cell_type": "code",
      "source": [
        "import numpy as np\n",
        "import matplotlib.pyplot as plt\n",
        "from scipy.cluster.hierarchy import dendrogram, linkage\n",
        "\n",
        "x = [4, 5, 10, 4, 3, 11, 14 , 6, 10, 12]\n",
        "y = [21, 19, 24, 17, 16, 25, 24, 22, 21, 21]\n",
        "\n",
        "data = list(zip(x, y))\n",
        "print(data)\n",
        "\n",
        "linkage_data = linkage(data, method='ward', metric='euclidean')\n",
        "r = dendrogram(linkage_data)\n",
        "\n",
        "plt.show()"
      ],
      "metadata": {
        "id": "BNg8cCepcDfK"
      },
      "execution_count": null,
      "outputs": []
    },
    {
      "cell_type": "markdown",
      "source": [
        "Clustering aglomerativo"
      ],
      "metadata": {
        "id": "lCwLsAQOcJr5"
      }
    },
    {
      "cell_type": "code",
      "source": [
        "import numpy as np\n",
        "import matplotlib.pyplot as plt\n",
        "from sklearn.cluster import AgglomerativeClustering\n",
        "from matplotlib.colors import ListedColormap\n",
        "cmap2 = ListedColormap(['steelblue', 'darkorange'])\n",
        "\n",
        "x = [4, 5, 10, 4, 3, 11, 14 , 6, 10, 12]\n",
        "y = [21, 19, 24, 17, 16, 25, 24, 22, 21, 21]\n",
        "\n",
        "data = list(zip(x, y))\n",
        "\n",
        "hierarchical_cluster = AgglomerativeClustering(n_clusters=2, metric='euclidean', linkage='ward')\n",
        "labels = hierarchical_cluster.fit_predict(data)\n",
        "print(labels)\n",
        "plt.scatter(x, y, c=labels,cmap=cmap2)\n",
        "plt.show()"
      ],
      "metadata": {
        "id": "Y4Nde9qZcLjw"
      },
      "execution_count": null,
      "outputs": []
    },
    {
      "cell_type": "markdown",
      "source": [
        "Un ejemplo diferente"
      ],
      "metadata": {
        "id": "DEZ891T7cScv"
      }
    },
    {
      "cell_type": "code",
      "source": [
        "import numpy as np\n",
        "\n",
        "x = []\n",
        "y = []\n",
        "for v in np.linspace(4, 12, 100):\n",
        "    x.append(v)\n",
        "    y.append(16)\n",
        "    x.append(v)\n",
        "    y.append(24)\n",
        "    x.append(4+v/2)\n",
        "    y.append(10+16/2)\n",
        "    x.append(4+ v/2)\n",
        "    y.append(10+24/2)\n",
        "\n",
        "for v in np.linspace(16, 24, 100):\n",
        "    x.append(4)\n",
        "    y.append(v)\n",
        "    x.append(12)\n",
        "    y.append(v)\n",
        "    y.append(10+v/2)\n",
        "    x.append(6)\n",
        "    y.append(10+ v/2)\n",
        "    x.append(10)\n",
        "\n",
        "plt.scatter(x, y)\n",
        "plt.show()"
      ],
      "metadata": {
        "id": "t1LBRn7-cU2_"
      },
      "execution_count": null,
      "outputs": []
    },
    {
      "cell_type": "code",
      "source": [
        "\n",
        "\n",
        "\n",
        "data = list(zip(x, y))\n",
        "k=2\n",
        "model = KMeans(init='k-means++', n_clusters=k, n_init='auto')\n",
        "model.fit_transform(data)\n",
        "\n",
        "plt.scatter(x, y, c=model.labels_, cmap=cmap2)\n",
        "plt.show()"
      ],
      "metadata": {
        "id": "6fU1GLq4cf7f"
      },
      "execution_count": null,
      "outputs": []
    },
    {
      "cell_type": "markdown",
      "source": [
        "Con clustering jerárquico"
      ],
      "metadata": {
        "id": "nQdpBL9BeXdk"
      }
    },
    {
      "cell_type": "code",
      "source": [
        "from sklearn.cluster import AgglomerativeClustering\n",
        "hierarchical_cluster = AgglomerativeClustering(n_clusters=2, metric='manhattan', linkage='single')\n",
        "labels = hierarchical_cluster.fit_predict(data)\n",
        "plt.scatter(x, y, c=labels, cmap=cmap2)\n",
        "plt.show()"
      ],
      "metadata": {
        "id": "eAq4EkrAeWzN"
      },
      "execution_count": null,
      "outputs": []
    }
  ],
  "metadata": {
    "colab": {
      "provenance": [],
      "include_colab_link": true
    },
    "kernelspec": {
      "display_name": "Python 3 (ipykernel)",
      "language": "python",
      "name": "python3"
    },
    "language_info": {
      "codemirror_mode": {
        "name": "ipython",
        "version": 3
      },
      "file_extension": ".py",
      "mimetype": "text/x-python",
      "name": "python",
      "nbconvert_exporter": "python",
      "pygments_lexer": "ipython3",
      "version": "3.9.12"
    }
  },
  "nbformat": 4,
  "nbformat_minor": 0
}