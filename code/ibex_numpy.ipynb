{
  "cells": [
    {
      "cell_type": "markdown",
      "metadata": {
        "id": "view-in-github",
        "colab_type": "text"
      },
      "source": [
        "<a href=\"https://colab.research.google.com/github/RafaelCaballero/Julio25/blob/main/code/ibex_numpy.ipynb\" target=\"_parent\"><img src=\"https://colab.research.google.com/assets/colab-badge.svg\" alt=\"Open In Colab\"/></a>"
      ]
    },
    {
      "cell_type": "markdown",
      "source": [
        "# Pandas visto como numpy\n",
        "\n",
        "Empezamos cargando datos del ibex en el año 24"
      ],
      "metadata": {
        "id": "_1PXBou-jL1H"
      },
      "id": "_1PXBou-jL1H"
    },
    {
      "cell_type": "code",
      "execution_count": null,
      "id": "b59e741c",
      "metadata": {
        "id": "b59e741c"
      },
      "outputs": [],
      "source": [
        "url =  \"https://raw.githubusercontent.com/RafaelCaballero/tdm/refs/heads/master/datos/ibex24.csv\"\n",
        "import pandas as pd\n",
        "\n",
        "df = pd.read_csv(url)\n",
        "df[\"Fecha\"] = pd.to_datetime(df[\"Fecha\"],utc=True)\n",
        "df.index = df[\"Fecha\"]\n",
        "df"
      ]
    },
    {
      "cell_type": "markdown",
      "source": [
        "Calcular el máximo de la columna Open"
      ],
      "metadata": {
        "id": "iHg6sDsxjemR"
      },
      "id": "iHg6sDsxjemR"
    },
    {
      "cell_type": "code",
      "source": [],
      "metadata": {
        "id": "yGd_UFb5jchy"
      },
      "id": "yGd_UFb5jchy",
      "execution_count": null,
      "outputs": []
    },
    {
      "cell_type": "markdown",
      "source": [
        "¿Qué valores están por encima de 12000?\n",
        "\n",
        "Idea: primero hacer un filtro y luego aplicarlo"
      ],
      "metadata": {
        "id": "4ibLrtZFjsJH"
      },
      "id": "4ibLrtZFjsJH"
    },
    {
      "cell_type": "code",
      "source": [],
      "metadata": {
        "id": "ykE0oaJVj03z"
      },
      "id": "ykE0oaJVj03z",
      "execution_count": null,
      "outputs": []
    },
    {
      "cell_type": "markdown",
      "source": [
        "¿Cuántos valores están por encima de 12000 ?"
      ],
      "metadata": {
        "id": "e1atkBLjkDin"
      },
      "id": "e1atkBLjkDin"
    },
    {
      "cell_type": "code",
      "source": [],
      "metadata": {
        "id": "K7Koo4lskJH4"
      },
      "id": "K7Koo4lskJH4",
      "execution_count": null,
      "outputs": []
    },
    {
      "cell_type": "markdown",
      "source": [
        "¿Cuántos valores están por encima de la media?\n"
      ],
      "metadata": {
        "id": "DTKV5X4EkY8M"
      },
      "id": "DTKV5X4EkY8M"
    },
    {
      "cell_type": "code",
      "source": [],
      "metadata": {
        "id": "y5EbM7khkzhM"
      },
      "id": "y5EbM7khkzhM",
      "execution_count": null,
      "outputs": []
    },
    {
      "cell_type": "markdown",
      "id": "2e98ccf8",
      "metadata": {
        "id": "2e98ccf8"
      },
      "source": [
        "Dado:\n",
        "* $P_t$: Precio de un activo en el tiempo $t$\n",
        "* $P_{t+1}$: Precio del activo en el tiempo $t+1$\n",
        "\n",
        "Se define el rendimiento entre los tiempos $t$ y $t+1$ como\n",
        "\n",
        "$$ R_{t,t+1} = \\frac{P_{t+1}-P_{t}}{P_{t}} $$\n",
        "\n",
        "o, de forma alternativa\n",
        "\n",
        "$$ R_{t,t+1} = \\frac{P_{t+1}}{P_{t}} - 1 $$\n",
        "\n",
        "Calcularlo para los precios dados por la variable precios\n"
      ]
    },
    {
      "cell_type": "code",
      "execution_count": null,
      "id": "23edef98",
      "metadata": {
        "id": "23edef98"
      },
      "outputs": [],
      "source": [
        "import numpy as np\n",
        "np.set_printoptions(suppress=True)\n",
        "\n"
      ]
    },
    {
      "cell_type": "markdown",
      "source": [
        "Calcular el incremento a 10 días"
      ],
      "metadata": {
        "id": "LjEq-IuVk4W9"
      },
      "id": "LjEq-IuVk4W9"
    },
    {
      "cell_type": "code",
      "source": [],
      "metadata": {
        "id": "ecMhJ2gek8ex"
      },
      "id": "ecMhJ2gek8ex",
      "execution_count": null,
      "outputs": []
    }
  ],
  "metadata": {
    "kernelspec": {
      "display_name": "Python 3",
      "language": "python",
      "name": "python3"
    },
    "language_info": {
      "codemirror_mode": {
        "name": "ipython",
        "version": 3
      },
      "file_extension": ".py",
      "mimetype": "text/x-python",
      "name": "python",
      "nbconvert_exporter": "python",
      "pygments_lexer": "ipython3",
      "version": "3.13.5"
    },
    "colab": {
      "provenance": [],
      "include_colab_link": true
    }
  },
  "nbformat": 4,
  "nbformat_minor": 5
}