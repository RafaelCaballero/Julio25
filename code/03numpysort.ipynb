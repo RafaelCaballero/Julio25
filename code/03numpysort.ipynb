{
  "cells": [
    {
      "cell_type": "markdown",
      "metadata": {
        "id": "cudcgcPUuVyt"
      },
      "source": [
        "\n",
        "\n",
        "\n",
        "## La biblioteca numpy\n",
        "\n",
        "<img src=\"https://numpy.org/doc/stable/_static/numpylogo.svg\"/>"
      ]
    },
    {
      "cell_type": "markdown",
      "metadata": {
        "id": "HrCYs5j5uVyt"
      },
      "source": [
        "### La velocidad: una razón práctica para usar numpy\n",
        "Numpy representa vectores y matrices de forma más eficiente; va a ser el soporte de los dataframes en Pandas y su filosofía se \"hereda\" en el manejo de datos en esta biblioteca. Veamos distintas formas de encontrar el máximo de un vector.\n",
        "\n",
        "\n",
        "##### Python estándar"
      ]
    },
    {
      "cell_type": "code",
      "execution_count": null,
      "metadata": {
        "id": "lZDLq1vpuVyt"
      },
      "outputs": [],
      "source": [
        "%%time\n",
        "import random\n",
        "cuantos = 10000000\n",
        "l = [random.randint(1,100) for n in range(cuantos)]"
      ]
    },
    {
      "cell_type": "code",
      "execution_count": null,
      "metadata": {
        "id": "rR0WHS3duVyu"
      },
      "outputs": [],
      "source": [
        "l[:10]"
      ]
    },
    {
      "cell_type": "markdown",
      "metadata": {
        "id": "d_l08pTkuVyu"
      },
      "source": [
        "aquí se ve lo que tarda"
      ]
    },
    {
      "cell_type": "code",
      "execution_count": null,
      "metadata": {
        "id": "3Q8mu4F3uVyu"
      },
      "outputs": [],
      "source": [
        "%%time\n",
        "maximo = 0\n",
        "for x in l:\n",
        "    if x>maximo:\n",
        "        maximo=x\n",
        "print(maximo)\n",
        "\n"
      ]
    },
    {
      "cell_type": "code",
      "execution_count": null,
      "metadata": {
        "id": "M7SmuNc_uVyu"
      },
      "outputs": [],
      "source": [
        "%%time\n",
        "max(l)"
      ]
    },
    {
      "cell_type": "markdown",
      "metadata": {
        "id": "AqR1P3DyuVyu"
      },
      "source": [
        "##### Python con Numpy"
      ]
    },
    {
      "cell_type": "code",
      "execution_count": null,
      "metadata": {
        "id": "i-argw-JuVyu"
      },
      "outputs": [],
      "source": [
        "%%time\n",
        "import numpy as np\n",
        "l =  np.random.randint(1, 100, cuantos)"
      ]
    },
    {
      "cell_type": "code",
      "execution_count": null,
      "metadata": {
        "id": "GzfP24VvuVyu"
      },
      "outputs": [],
      "source": [
        "%%time\n",
        "import numpy as np\n",
        "l.max()"
      ]
    },
    {
      "cell_type": "markdown",
      "metadata": {
        "id": "YoeQDKyduVyu"
      },
      "source": [
        "### Creación de ndarrays\n",
        "\n",
        "#### Creación desde arrays Python"
      ]
    },
    {
      "cell_type": "code",
      "execution_count": null,
      "metadata": {
        "id": "uT9zJFRouVyv"
      },
      "outputs": [],
      "source": [
        "import numpy as np\n",
        "v = [10,20,30,40]\n",
        "a1  = np.array(v)\n",
        "\n",
        "print(a1, a1.shape, a1.dtype)"
      ]
    },
    {
      "cell_type": "code",
      "execution_count": null,
      "metadata": {
        "id": "DxLYFoVluVyv"
      },
      "outputs": [],
      "source": [
        "v = [10,20,30,40,\"hola\"]\n",
        "a1  = np.array(v)\n",
        "\n",
        "print(a1, a1.shape, a1.dtype)"
      ]
    },
    {
      "cell_type": "markdown",
      "metadata": {
        "id": "JgUnUg1duVyv"
      },
      "source": [
        "En https://numpy.org/doc/stable/reference/arrays.dtypes.html hay algunas explicaciones sobre los tipos de datos de numpy"
      ]
    },
    {
      "cell_type": "code",
      "execution_count": null,
      "metadata": {
        "id": "_8CnSWIpuVyv"
      },
      "outputs": [],
      "source": [
        "d = [[1, 2, 3, 4], [5, 6, 7, 8.2]]\n",
        "\n",
        "a2 = np.array(d)\n",
        "print(a2, a2.shape, a2.dtype)"
      ]
    },
    {
      "cell_type": "markdown",
      "metadata": {
        "id": "POSZZW3TuVyv"
      },
      "source": [
        "Es importante notar que *array* crea una copia, esto es, reserva memoria nueva para el resultado.\n",
        "La variante *asarray* no crea una copia si el parámetro ya es un *ndarray*"
      ]
    },
    {
      "cell_type": "code",
      "execution_count": null,
      "metadata": {
        "id": "aBUyrMVuuVyv"
      },
      "outputs": [],
      "source": [
        "\n",
        "d = [[1, 2, 3, 4], [5, 6, 7, 8.2]]\n",
        "\n",
        "a2 = np.array(d)\n",
        "a3 = np.array(a2)\n",
        "a4 = np.asarray(a2)\n",
        "\n",
        "a3[0,1] = 0\n",
        "a4[1,3] = 0\n",
        "print(a2)"
      ]
    },
    {
      "cell_type": "markdown",
      "metadata": {
        "id": "sr_a-mv3uVyv"
      },
      "source": [
        "#### Crear arrays en numpy repitiendo valores\n",
        "\n",
        "Aparte de *np.array* tenemos:\n",
        "\n",
        "- *np.zeros(s)*: crea un array con 0s (float) con el *shape* indicado<br>\n",
        "\n",
        "- *np.zeros_like(a)*: crea un array con 0s (float) con el mismo *shape* que el del array *a*<br>\n",
        "\n",
        "- *np.ones(s)*: crea un array con 1s (float) con el *shape* indicado<br>\n",
        "\n",
        "- *np.ones_like(a)*: crea un array con 1s (float) con el mismo *shape* que el del array *a*<br>\n",
        "\n",
        "- *np.empty(s)*: crea un array con el *shape* indicado sin inicializar<br>\n",
        "\n",
        "- *np.empty_like(a)*: crea un array con el *shape* de *a* sin inicializar<br>\n",
        "\n",
        "- *np.arange(n)*: la versión np de *range*\n",
        "\n",
        "- *np.eye(n)*, *np.identity(n)*: matriz diagonal de nxn"
      ]
    },
    {
      "cell_type": "code",
      "execution_count": null,
      "metadata": {
        "id": "Nkiz11KduVyv"
      },
      "outputs": [],
      "source": [
        "np.zeros((2,3,4))"
      ]
    },
    {
      "cell_type": "markdown",
      "metadata": {
        "id": "VibCKR4BuVyv"
      },
      "source": [
        "#### Crear arrays en numpy mediante números aleatorios\n",
        "\n",
        "numpy dispone de un paquete `numpy.random` que se encarga de generar números aleatrorios. Python también dispone de dicho paquete. La diferencia es que el módulo de numpy puede generar muchos valores diferentes con una sola llamada y de muy diversas funciones de probabilidad.\n",
        "\n",
        "Las funciones incluídas en este paquete son:\n",
        "\n",
        "    seed: semilla del generador de números aleatorios\n",
        "    permutation: permutación al azar de una secuencia\n",
        "    shuffle: permuta una secuencia in-place (no devuelve copia)\n",
        "    rand: devuelve números aleatorios de una función uniforme\n",
        "    randint: Valores enteros distribuidos uniformemente\n",
        "    randn: valores de una N(0,1)\n",
        "    binomial: ejemplo de una binomial\n",
        "    normal: valores de una gaussiana cuyos parámetros se le pasan\n",
        "    beta: valores aleatorios de una distribución beta\n",
        "    chisquare: valores aleatorios de una chi-cuadrado\n",
        "    gamma: valores de una gamma\n",
        "    uniform: valores de una uniforme (0,1)\n",
        "    \n",
        "Vamos a comparar en velocidad con la generación mediante números aleatorios de Python"
      ]
    },
    {
      "cell_type": "code",
      "execution_count": null,
      "metadata": {
        "id": "mgBpMV3luVyv"
      },
      "outputs": [],
      "source": [
        "from random import normalvariate\n",
        "N = 1000000\n",
        "%timeit [normalvariate(0,1) for _ in range(N)]"
      ]
    },
    {
      "cell_type": "code",
      "execution_count": null,
      "metadata": {
        "id": "PbIk6P5_uVyv"
      },
      "outputs": [],
      "source": [
        "%timeit np.random.normal(size=N)"
      ]
    },
    {
      "cell_type": "markdown",
      "metadata": {
        "id": "5iy-wljRuVyv"
      },
      "source": [
        "Al usar timeit se puede especificar el número de repeticiones (r) y de iteraciones (n)"
      ]
    },
    {
      "cell_type": "code",
      "execution_count": null,
      "metadata": {
        "id": "O2D5-kOYuVyv"
      },
      "outputs": [],
      "source": [
        "%timeit -n 100 -r 5 np.random.normal(size=N)"
      ]
    },
    {
      "cell_type": "markdown",
      "metadata": {
        "id": "oNg7qLhauVyv"
      },
      "source": [
        "### Vectorización: los vectores son como números"
      ]
    },
    {
      "cell_type": "markdown",
      "metadata": {
        "id": "6EuBfhqjuVyv"
      },
      "source": [
        "Aparte de la velocidad y de la gran cantidad de funciones que contiene, la *vectorización* es una razón importante para utilizar numpy. La idea es sí es muy sencilla:\n",
        "\n",
        "\n",
        "\n",
        "Vectorización: *Toda operación que se pueda aplicar a un elemento de un tipo básico (ej. int) se extiende forma natural a ndarrays*"
      ]
    },
    {
      "cell_type": "code",
      "execution_count": null,
      "metadata": {
        "id": "IBnd9NjauVyv"
      },
      "outputs": [],
      "source": [
        "a = 20\n",
        "b = 30\n",
        "a+b   # python puro"
      ]
    },
    {
      "cell_type": "code",
      "execution_count": null,
      "metadata": {
        "id": "eJBNgM3XuVyv"
      },
      "outputs": [],
      "source": [
        "import numpy as np\n",
        "\n",
        "a  = np.array([10,20,30,40])\n",
        "b  = np.array([100,200,300,400])\n",
        "\n",
        "a+b # numpy"
      ]
    },
    {
      "cell_type": "code",
      "execution_count": null,
      "metadata": {
        "id": "6hbmdJd9uVyv"
      },
      "outputs": [],
      "source": [
        "a*b"
      ]
    },
    {
      "cell_type": "code",
      "execution_count": null,
      "metadata": {
        "id": "BN2fumbvuVyv"
      },
      "outputs": [],
      "source": [
        "(a+b)/2"
      ]
    },
    {
      "cell_type": "markdown",
      "metadata": {
        "id": "dE48C5J2uVyv"
      },
      "source": [
        "### Broadcasting\n",
        "\n",
        "Para poder operar entre dos vectores éstos tienen que ser en principio de la misma longitud. Sin embargo, siempre que pueda, al detectar diferencias de tamaño numpy \"repetirá\" elementos para lograr que encajen ambos operandos. Esto se conoce como \"broadcasting\""
      ]
    },
    {
      "cell_type": "code",
      "execution_count": null,
      "metadata": {
        "id": "wxf9AFeHuVyw"
      },
      "outputs": [],
      "source": [
        "m = np.zeros((10,10),dtype=np.int32)\n",
        "m"
      ]
    },
    {
      "cell_type": "code",
      "execution_count": null,
      "metadata": {
        "id": "35Rwg_FbuVyw"
      },
      "outputs": [],
      "source": [
        "m[3:7,3:7]=1\n",
        "m"
      ]
    },
    {
      "cell_type": "code",
      "execution_count": null,
      "metadata": {
        "id": "glLwWVRMuVyw"
      },
      "outputs": [],
      "source": [
        "m+2"
      ]
    },
    {
      "cell_type": "markdown",
      "source": [
        "Ejemplo\n",
        "\n",
        "Dado:\n",
        "* $P_t$: Precio de un activo en el tiempo $t$\n",
        "* $P_{t+1}$: Precio del activo en el tiempo $t+1$\n",
        "\n",
        "Se define el rendimiento entre los tiempos $t$ y $t+1$ como\n",
        "\n",
        "$$ R_{t,t+1} = \\frac{P_{t+1}-P_{t}}{P_{t}} $$\n",
        "\n",
        "o, de forma alternativa\n",
        "\n",
        "$$ R_{t,t+1} = \\frac{P_{t+1}}{P_{t}} - 1 $$\n",
        "\n",
        "Calcularlo para los precios dados por la variable precios\n"
      ],
      "metadata": {
        "id": "_aSlErOFu3qJ"
      }
    },
    {
      "cell_type": "code",
      "source": [
        "import numpy as np\n",
        "precios =  np.array([6.50, 6.52,6.49, 6.70, 6.91, 6.71, 6.15, 6.17,6.19,6.63])"
      ],
      "metadata": {
        "id": "rKE1jGQ5v01H"
      },
      "execution_count": null,
      "outputs": []
    },
    {
      "cell_type": "code",
      "source": [
        "rendimiento = precios[1:]/precios[:-1] -1\n",
        "print(rendimiento)"
      ],
      "metadata": {
        "id": "2ErHpZuwwR-I"
      },
      "execution_count": null,
      "outputs": []
    },
    {
      "cell_type": "markdown",
      "source": [
        "Nótese que aquí se combinan muchas cosas que hemos visto ya:\n",
        "\n",
        "1. Los slices, para:\n",
        "\n",
        "\n",
        "-   `precios[1:]`: precios a partir del segundo elemento, representando ($P_{t+1}$)\n",
        "-   `precios[:-1]`: precios hasta el último elemento pero sin incluirlo, (representando $P_t$). El último se quita porque no tiene valor siguiente y queremos dos vectores de la misma longitud\n",
        "\n",
        "2. Vectorización, al dividir dos arrays como si fueran dos números, con `/`\n",
        "\n",
        "3. Broadcasting al sumar 1, que realmente es sumar un array de 1s\n",
        "\n",
        "Observad que no se pueder hacer lo mismo en python estándar:"
      ],
      "metadata": {
        "id": "e7Hzs4jfw1kr"
      }
    },
    {
      "cell_type": "code",
      "source": [
        "\"\"\"\n",
        "precios =  [6.50, 6.52,6.49, 6.70, 6.91, 6.71, 6.15, 6.17,6.19,6.63]\n",
        "rendimiento = precios[1:]/precios[:-1] -1\n",
        "print(rendimiento)\n",
        "\"\"\""
      ],
      "metadata": {
        "id": "1ZvWATMRyWa3"
      },
      "execution_count": null,
      "outputs": []
    },
    {
      "cell_type": "markdown",
      "source": [
        "**Ejercicio**\n",
        "\n",
        "Hacer lo mismo para el rendimento a p días no a 1\n",
        "\n",
        "$$ R_{t,t+p} = \\frac{P_{t+p}}{P_{t}} - 1 $$"
      ],
      "metadata": {
        "id": "-y3z2Z9dyhgq"
      }
    },
    {
      "cell_type": "code",
      "source": [
        "import numpy as np\n",
        "precios =  np.array([6.50, 6.52,6.49, 6.70, 6.91, 6.71, 6.15, 6.17,6.19,6.63])\n",
        "p=3\n",
        "# solución\n"
      ],
      "metadata": {
        "id": "zTfwcc-FyuUk"
      },
      "execution_count": null,
      "outputs": []
    },
    {
      "cell_type": "markdown",
      "source": [
        "Veremos que en Pandas esto se puede hacer automáticamente con la función [`pct_change`](https://pandas.pydata.org/docs/reference/api/pandas.DataFrame.pct_change.html)"
      ],
      "metadata": {
        "id": "8uLQQPMHzABP"
      }
    },
    {
      "cell_type": "markdown",
      "source": [
        "**Ejemplo**\n",
        "\n",
        "Vamos a proceder al revés; supongamos que tenemos solamente los rendimientos diarios ( $R_{1,2}$,  $R_{2,3}$ $\\dots$ $R_{n-1,n}$) , y queremos calcular el beneficio total que obtenemos si compramos al precio del primer día y vendemos al del último.\n",
        "\n",
        "Podemos usar la fórmula\n",
        "\n",
        "$$R_{1,n} = (1 + R_{1,2})(1+R_{2,3})\\dots(1 + R_{n-1,n}) -1 = {\\displaystyle \\prod_{i=1}^{n-1}} (1+R_{i,{i+1}}) -1 $$\n",
        "\n",
        "Aprovecharemos del broadcasting para sumar 1 a todos los elementos y de la función `np.prod` que multiplica todos los elementos de un array:"
      ],
      "metadata": {
        "id": "i9N3yG0yKFzW"
      }
    },
    {
      "cell_type": "code",
      "source": [
        "rendimiento = np.array([0.00307692, -0.00460123,  0.03235747,  0.03134328, -0.02894356, -0.08345753,\n",
        "  0.00325203,  0.00324149, 0.07108239])\n",
        "\n",
        "np.prod(1+rendimiento)-1"
      ],
      "metadata": {
        "id": "emvWRBEBJPMY"
      },
      "execution_count": null,
      "outputs": []
    },
    {
      "cell_type": "markdown",
      "source": [
        "Por supuesto si se dispone de los precios originales es más fácil:"
      ],
      "metadata": {
        "id": "aOOwNxf7LaqA"
      }
    },
    {
      "cell_type": "code",
      "source": [
        "(precios[-1]-precios[0])/precios[0]"
      ],
      "metadata": {
        "id": "RR6DQGaJMqB_"
      },
      "execution_count": null,
      "outputs": []
    },
    {
      "cell_type": "markdown",
      "metadata": {
        "id": "A2adJ6jjuVyw"
      },
      "source": [
        "## Filtros: índices booleanos\n",
        "\n",
        "Todavía una razón más a favor de numpy (y una que explotaremos mucho en Pandas); utilizar arrays de booleanos como índices; esto va a ser una herramienta muy poderosa para filtrar datos"
      ]
    },
    {
      "cell_type": "code",
      "execution_count": null,
      "metadata": {
        "id": "vXRc1nyEuVyw"
      },
      "outputs": [],
      "source": [
        "a = np.arange(1,11)\n",
        "a"
      ]
    },
    {
      "cell_type": "code",
      "execution_count": null,
      "metadata": {
        "id": "kzGfFg1guVyw"
      },
      "outputs": [],
      "source": [
        "a[ [True,False,False,True,False,False,True,False,False,False]]"
      ]
    },
    {
      "cell_type": "markdown",
      "metadata": {
        "id": "jHE20vPmuVyw"
      },
      "source": [
        "Esto, que parece no tener importancia, muestra su potencia al combinarlo con la vectorización, y da lugar a todo un estilo de programación"
      ]
    },
    {
      "cell_type": "code",
      "execution_count": null,
      "metadata": {
        "id": "mnKdP8rXuVyw"
      },
      "outputs": [],
      "source": [
        "a % 2 == 0"
      ]
    },
    {
      "cell_type": "code",
      "execution_count": null,
      "metadata": {
        "id": "ydR0mUL4uVyy"
      },
      "outputs": [],
      "source": [
        "filtro = a % 2 == 0\n",
        "a[filtro]"
      ]
    },
    {
      "cell_type": "code",
      "execution_count": null,
      "metadata": {
        "id": "2fkPMp_-uVyy"
      },
      "outputs": [],
      "source": [
        "a[ a % 2 == 0]"
      ]
    },
    {
      "cell_type": "markdown",
      "metadata": {
        "id": "h3NskXQTuVyy"
      },
      "source": [
        "**Ejemplo**\n",
        "Queremos quedarnos solo con los elementos positivos del array a"
      ]
    },
    {
      "cell_type": "code",
      "execution_count": null,
      "metadata": {
        "id": "FeTiz5UHuVyy"
      },
      "outputs": [],
      "source": [
        "a = np.random.randint(-100,100,50)\n",
        "a"
      ]
    },
    {
      "cell_type": "code",
      "execution_count": null,
      "metadata": {
        "id": "ODsJL6GGuVyy"
      },
      "outputs": [],
      "source": [
        "# solución\n"
      ]
    },
    {
      "cell_type": "markdown",
      "metadata": {
        "id": "L8aC9uFWuVyy"
      },
      "source": [
        "Se pueden combinar dos arrays"
      ]
    },
    {
      "cell_type": "code",
      "execution_count": null,
      "metadata": {
        "id": "gcsgue-auVyy"
      },
      "outputs": [],
      "source": [
        "nombre = np.array([\"Bertoldo\",\"Herminia\",\"Calixto\",\"Melibea\",\"Aniceto\"])\n",
        "ingresos = np.array([1200,800,1500,2300,940])\n",
        "\n",
        "nombre, ingresos"
      ]
    },
    {
      "cell_type": "code",
      "execution_count": null,
      "metadata": {
        "id": "JDTtE_cQuVyy"
      },
      "outputs": [],
      "source": [
        "# Nombre de los que ganan más de 1000 euros\n",
        "filtro = ingresos>1000\n",
        "nombre[filtro]"
      ]
    },
    {
      "cell_type": "markdown",
      "metadata": {
        "id": "qS7HntoGuVyy"
      },
      "source": [
        "**Ejercicio** A partir de la listas `edades` y `nombres` queremos crear 4 listas: `edades20`, `nombres20` con las edades menores o iguales a 20 y sus nombres, y `edadesMasDe20`, `nombresMasDe20` con las edades y nombres de los que tienen más de 20 años"
      ]
    },
    {
      "cell_type": "code",
      "execution_count": null,
      "metadata": {
        "id": "on1-kGNiuVyy"
      },
      "outputs": [],
      "source": [
        "nombres = np.array([\"Melibea\", \"Bertoldo\", \"Herminia\", \"Calixto\", \"Aniceto\"])\n",
        "edades = np.array([18,20,23,18,21])"
      ]
    },
    {
      "cell_type": "code",
      "execution_count": null,
      "metadata": {
        "id": "oxTcNG5XuVyy"
      },
      "outputs": [],
      "source": [
        "filtro1 = edades>20\n",
        "filtro2 = edades<=20\n",
        "\n",
        "edades20, nombres20  = edades[filtro2], nombres[filtro2]\n",
        "\n",
        "edadesMasDe20, nombresMasDe20 = edades[filtro1], nombres[filtro1]\n",
        "\n",
        "print(edades20, nombres20)\n",
        "print(edadesMasDe20, nombresMasDe20 )"
      ]
    },
    {
      "cell_type": "markdown",
      "metadata": {
        "id": "P-6kBPKYuVyy"
      },
      "source": [
        "Sobre los arrays booleanos se pueden hacer operaciones and (se escribe &), or (|) y not (~)"
      ]
    },
    {
      "cell_type": "code",
      "execution_count": null,
      "metadata": {
        "id": "SjVWNfTruVyz"
      },
      "outputs": [],
      "source": [
        "filtro1"
      ]
    },
    {
      "cell_type": "code",
      "execution_count": null,
      "metadata": {
        "id": "F07rwBDWuVyz"
      },
      "outputs": [],
      "source": [
        "~filtro1"
      ]
    },
    {
      "cell_type": "code",
      "execution_count": null,
      "metadata": {
        "id": "Z0Do4INquVyz"
      },
      "outputs": [],
      "source": [
        "filtro = edades>20\n",
        "\n",
        "\n",
        "edades20, nombres20  = edades[~filtro], nombres[~filtro]\n",
        "\n",
        "edadesMasDe20, nombresMasDe20 = edades[filtro], nombres[filtro]\n",
        "\n",
        "print(edades20, nombres20)\n",
        "print(edadesMasDe20, nombresMasDe20 )"
      ]
    },
    {
      "cell_type": "markdown",
      "metadata": {
        "id": "1qR7KLACuVyz"
      },
      "source": [
        "*En general en ciencia de datos en Python evitaremos los bucles `for` siempre que sea posible, las bibliotecas como numpy ofrecen alternativas más elegantes y mucho más rápidas*"
      ]
    }
  ],
  "metadata": {
    "kernelspec": {
      "display_name": "Python 3 (ipykernel)",
      "language": "python",
      "name": "python3"
    },
    "language_info": {
      "codemirror_mode": {
        "name": "ipython",
        "version": 3
      },
      "file_extension": ".py",
      "mimetype": "text/x-python",
      "name": "python",
      "nbconvert_exporter": "python",
      "pygments_lexer": "ipython3",
      "version": "3.11.4"
    },
    "colab": {
      "provenance": []
    }
  },
  "nbformat": 4,
  "nbformat_minor": 0
}
